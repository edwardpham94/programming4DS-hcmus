{
 "cells": [
  {
   "cell_type": "markdown",
   "metadata": {},
   "source": [
    "# Basic String Manipulation with Python"
   ]
  },
  {
   "cell_type": "code",
   "execution_count": null,
   "metadata": {},
   "outputs": [],
   "source": [
    "def clean_county(name):\n",
    "    return (name)"
   ]
  },
  {
   "cell_type": "code",
   "execution_count": null,
   "metadata": {},
   "outputs": [],
   "source": [
    "county_table1 = [\"De Witt County\",\n",
    "                    \"Lac qui Parle County\",\n",
    "                    \"Lewis and Clark County\",\n",
    "                    \"St John the Baptist Parish\"]\n",
    "county_table2 = [\"DeWitt\",\n",
    "                    \"Lac Qui Parle\",\n",
    "                    \"Lewis & Clark\",\n",
    "                    \"St. John the Baptist\"]\n",
    "for name in county_table1:\n",
    "    print(clean_county(name))\n",
    "for name in county_table2:\n",
    "    print(clean_county(name))"
   ]
  },
  {
   "cell_type": "code",
   "execution_count": null,
   "metadata": {},
   "outputs": [],
   "source": [
    "text_log = \"\"\"169.237.46.168 - - [26/Jan/2004:10:47:58 -0800]\"GET /stat141/Winter04 HTTP/1.1\"\n",
    "301 328 \"http://anson.ucdavis.edu/courses\"\"Mozilla/4.0 (compatible; MSIE 6.0;\n",
    "Windows NT 5.0; .NET CLR 1.1.4322)\"\"\"\n",
    "print(text_log)\n"
   ]
  },
  {
   "cell_type": "markdown",
   "metadata": {},
   "source": [
    "# Cú pháp của Regular Expression"
   ]
  },
  {
   "cell_type": "code",
   "execution_count": null,
   "metadata": {},
   "outputs": [],
   "source": [
    "import re\n",
    "\n",
    "def show_regex_match(text, regex):\n",
    "    '''\n",
    "    Prints the string with the regex match highlighted.\n",
    "    \n",
    "    This function is modified from this source:\n",
    "    https://www.textbook.ds100.org/ch/12/text_regex.html\n",
    "    '''\n",
    "    result = re.sub(f'({regex})', r'\\033[1;30;43m\\1\\033[m', text)\n",
    "    result = result.replace('\\n', '\\\\n') # Make \\n visible\n",
    "    print(result)"
   ]
  },
  {
   "cell_type": "markdown",
   "metadata": {},
   "source": [
    "## Literal"
   ]
  },
  {
   "cell_type": "code",
   "execution_count": null,
   "metadata": {
    "scrolled": true
   },
   "outputs": [],
   "source": [
    "text = '''\n",
    "Nam có email là nam123@gmail.com và có phone là 382-384-3840.\n",
    "Hoa có email là hoa456@yahoo.com và có phone là 382-384-4000.\n",
    "'''.strip()\n",
    "#Highlight email\n",
    "regex = \n",
    "show_regex_match(text, regex)"
   ]
  },
  {
   "cell_type": "code",
   "execution_count": null,
   "metadata": {},
   "outputs": [],
   "source": [
    "s = '\\t123'\n",
    "print(s)"
   ]
  },
  {
   "cell_type": "code",
   "execution_count": null,
   "metadata": {},
   "outputs": [],
   "source": [
    "# Raw string\n",
    "s = r'\\t123'\n",
    "print(s)"
   ]
  },
  {
   "cell_type": "code",
   "execution_count": null,
   "metadata": {},
   "outputs": [],
   "source": [
    "# Regex phân biệt viết hoa và viết thường\n",
    "text = '''\n",
    "Nam có email là nam123@gmail.com và có phone là 382-384-3840.\n",
    "Hoa có email là hoa456@yahoo.com và có phone là 382-384-4000.\n",
    "'''.strip()\n",
    "regex = \n",
    "show_regex_match(text, regex)"
   ]
  },
  {
   "cell_type": "markdown",
   "metadata": {},
   "source": [
    "## Character set"
   ]
  },
  {
   "cell_type": "code",
   "execution_count": null,
   "metadata": {},
   "outputs": [],
   "source": [
    "text = '''\n",
    "Nam có email là nam123@gmail.com và có phone là 382-384-3840.\n",
    "Hoa có email là hoa456@yahoo.com và có phone là 382-384-4000.\n",
    "'''.strip()\n",
    "# Viết regex ứng với chuỗi gồm 1 ký tự trong tập gồm 7 ký tự: \n",
    "# 1, 2, 3, a, b, c, .\n",
    "regex = \n",
    "show_regex_match(text, regex)"
   ]
  },
  {
   "cell_type": "code",
   "execution_count": null,
   "metadata": {},
   "outputs": [],
   "source": [
    "text = '''\n",
    "Nam có email là nam123@gmail.com và có phone là 382-384-3840.\n",
    "Hoa có email là hoa456@yahoo.com và có phone là 382-384-4000.\n",
    "'''.strip()\n",
    "# Dùng cú pháp [] để viết regex ứng với các US phone\n",
    "regex = \n",
    "show_regex_match(text, regex)"
   ]
  },
  {
   "cell_type": "code",
   "execution_count": null,
   "metadata": {},
   "outputs": [],
   "source": [
    "text = '''\n",
    "Nam có email là nam123@gmail.com và có phone là 382-384-3840.\n",
    "Hoa có email là hoa456@yahoo.com và có phone là 382-384-4000.\n",
    "'''.strip()\n",
    "# Dùng cú pháp [start-end] để viết regex ứng với các US phone\n",
    "regex = \n",
    "show_regex_match(text, regex)"
   ]
  },
  {
   "cell_type": "code",
   "execution_count": null,
   "metadata": {},
   "outputs": [],
   "source": [
    "text = '''\n",
    "Nam có email là nam123@gmail.com và có phone là 382-384-3840.\n",
    "Hoa có email là hoa456@yahoo.com và có phone là 382-384-4000.\n",
    "'''.strip()\n",
    "# Viết regex ứng với chuỗi gồm 1 ký tự mà không phải là số\n",
    "regex = \n",
    "show_regex_match(text, regex)"
   ]
  },
  {
   "cell_type": "code",
   "execution_count": null,
   "metadata": {},
   "outputs": [],
   "source": [
    "text = '''\n",
    "Nam có email là nam123@gmail.com và có phone là 382-384-3840.\n",
    "Hoa có email là hoa456@yahoo.com và có phone là 382-384-4000.\n",
    "'''.strip()\n",
    "# Viết regex ứng với chuỗi gồm 1 ký tự trong tập gồm 4 ký tự: \n",
    "# ^, 0, -, 9\n",
    "regex = \n",
    "# regex = r'[09^-]'\n",
    "show_regex_match(text, regex)"
   ]
  },
  {
   "cell_type": "code",
   "execution_count": null,
   "metadata": {},
   "outputs": [],
   "source": [
    "text = '''\n",
    "Nam có email là nam123@gmail.com và có phone là 382-384-3840.\n",
    "Hoa có email là hoa456@yahoo.com và có phone là 382-384-4000.\n",
    "'''.strip()\n",
    "# Viết regex ứng với chuỗi gồm 3 ký tự không phải là newline \n",
    "# và ký tự đầu là e\n",
    "regex = \n",
    "show_regex_match(text, regex)"
   ]
  },
  {
   "cell_type": "code",
   "execution_count": null,
   "metadata": {},
   "outputs": [],
   "source": [
    "text = '''\n",
    "Nam có email là nam123@gmail.com và có phone là 382-384-3840.\n",
    "Hoa có email là hoa456@yahoo.com và có phone là 382-384-4000.\n",
    "'''.strip()\n",
    "# Viết regex ứng với chuỗi gồm 1 ký tự trong tập gồm:\n",
    "# các ký tự chữ cái từ a đến z (cả viết thường lẫn viết hoa),\n",
    "# các ký tự số từ 0 đến 9\n",
    "# và ký tự _\n",
    "regex = \n",
    "# regex = \n",
    "show_regex_match(text, regex)"
   ]
  },
  {
   "cell_type": "code",
   "execution_count": null,
   "metadata": {},
   "outputs": [],
   "source": [
    "text = '''\n",
    "Nam có email là nam123@gmail.com và có phone là 382-384-3840.\n",
    "Hoa có email là hoa456@yahoo.com và có phone là 382-384-4000.\n",
    "'''.strip()\n",
    "# Dùng cú pháp \\d để viết regex ứng với các US phone\n",
    "regex = \n",
    "show_regex_match(text, regex)"
   ]
  },
  {
   "cell_type": "code",
   "execution_count": null,
   "metadata": {},
   "outputs": [],
   "source": [
    "text = '''\n",
    "Nam có email là nam123@gmail.com và có phone là 382-384-3840.\n",
    "Hoa có email là hoa456@yahoo.com và có phone là 382-384-4000.\n",
    "'''.strip()\n",
    "# Viết regex ứng với chuỗi gồm một ký tự bất kỳ\n",
    "regex = \n",
    "show_regex_match(text, regex)"
   ]
  },
  {
   "cell_type": "markdown",
   "metadata": {},
   "source": [
    "## Quantifier\n"
   ]
  },
  {
   "cell_type": "code",
   "execution_count": null,
   "metadata": {},
   "outputs": [],
   "source": [
    "text = '''\n",
    "Nam có email là nam123@gmail.com và có phone là 382-384-3840.\n",
    "Hoa có email là hoa456@yahoo.com và có phone là 382-384-4000.\n",
    "'''.strip()\n",
    "# Dùng cú pháp \\d & quantifier để viết regex ứng với các US phone\n",
    "regex = \n",
    "show_regex_match(text, regex)"
   ]
  },
  {
   "cell_type": "code",
   "execution_count": null,
   "metadata": {},
   "outputs": [],
   "source": [
    "# Tính greedy của quantifier\n",
    "text = '''\n",
    "Nam có email là nam123@gmail.com và có phone là 382-384-3840.\n",
    "Hoa có email là hoa456@yahoo.com và có phone là 382-384-4000.\n",
    "'''.strip()\n",
    "regex = r'1.+3'\n",
    "show_regex_match(text, regex)"
   ]
  },
  {
   "cell_type": "markdown",
   "metadata": {},
   "source": [
    "## Group "
   ]
  },
  {
   "cell_type": "code",
   "execution_count": null,
   "metadata": {},
   "outputs": [],
   "source": [
    "text = '''\n",
    "Nam có email là nam123@gmail.com và có phone là 382-384-3840.\n",
    "Hoa có email là hoa456@yahoo.com và có phone là 382-384-4000.\n",
    "'''.strip()\n",
    "# Dùng cú pháp \\d & quantifier & group để viết regex \n",
    "# ứng với các US phone\n",
    "regex = \n",
    "show_regex_match(text, regex)"
   ]
  },
  {
   "cell_type": "markdown",
   "metadata": {},
   "source": [
    "## Anchor"
   ]
  },
  {
   "cell_type": "code",
   "execution_count": null,
   "metadata": {},
   "outputs": [],
   "source": [
    "text = '''\n",
    "Nam có email là nam123@gmail.com và có phone là 382-384-3840.\n",
    "Hoa có email là hoa456@yahoo.com và có phone là 382-384-4000.\n",
    "'''.strip()\n",
    "# Viết regex ứng với chuỗi con \"email\" ở đầu chuỗi\n",
    "regex = \n",
    "show_regex_match(text, regex)"
   ]
  },
  {
   "cell_type": "code",
   "execution_count": null,
   "metadata": {},
   "outputs": [],
   "source": [
    "text = '''\n",
    "Nam có email là nam123@gmail.com và có phone là 382-384-3840.\n",
    "Hoa có email là hoa456@yahoo.com và có phone là 382-384-4000\n",
    "'''.strip()\n",
    "# Viết regex ứng với chuỗi con \".\" ở cuối chuỗi\n",
    "regex = \n",
    "show_regex_match(text, regex)"
   ]
  },
  {
   "cell_type": "code",
   "execution_count": null,
   "metadata": {},
   "outputs": [],
   "source": [
    "text = '''\n",
    "Nam có email là nam123@gmail.com và có phone là 382-384-3840.\n",
    "Hoa có email là hoa456@yahoo.com và có phone là 382-384-4000.\n",
    "'''.strip()\n",
    "# Viết regex ứng với chuỗi con \"e\" ở đầu từ\n",
    "regex = \n",
    "show_regex_match(text, regex)"
   ]
  },
  {
   "cell_type": "markdown",
   "metadata": {},
   "source": [
    "## Or "
   ]
  },
  {
   "cell_type": "code",
   "execution_count": null,
   "metadata": {
    "scrolled": true
   },
   "outputs": [],
   "source": [
    "text = '''\n",
    "Nam có email là nam123@gmail.com và có phone là 382-384-3840.\n",
    "Hoa có email là hoa456@yahoo.com và có phone là 382-384-4000.\n",
    "'''.strip()\n",
    "# Viết regex ứng với các email đuôi gmail hoặc yahoo\n",
    "regex = \n",
    "show_regex_match(text, regex)"
   ]
  },
  {
   "cell_type": "markdown",
   "metadata": {},
   "source": [
    "# Regex trong Python"
   ]
  },
  {
   "cell_type": "code",
   "execution_count": null,
   "metadata": {
    "scrolled": true
   },
   "outputs": [],
   "source": [
    "text = '''\n",
    "Nam có email là nam123@gmail.com và có phone là 382-384-3840.\n",
    "Hoa có email là hoa456@yahoo.com và có phone là 382-384-4000.\n",
    "'''.strip()\n",
    "#Tìm kiếm email\n",
    "regex = \n",
    "match = re.search(regex, text)\n",
    "match"
   ]
  },
  {
   "cell_type": "code",
   "execution_count": null,
   "metadata": {},
   "outputs": [],
   "source": [
    "text[16:32]"
   ]
  },
  {
   "cell_type": "code",
   "execution_count": null,
   "metadata": {},
   "outputs": [],
   "source": [
    "match.group(0)"
   ]
  },
  {
   "cell_type": "code",
   "execution_count": null,
   "metadata": {},
   "outputs": [],
   "source": [
    "match.group(1)"
   ]
  },
  {
   "cell_type": "code",
   "execution_count": null,
   "metadata": {},
   "outputs": [],
   "source": [
    "match.group(2)"
   ]
  },
  {
   "cell_type": "code",
   "execution_count": null,
   "metadata": {
    "scrolled": true
   },
   "outputs": [],
   "source": [
    "text = '''\n",
    "Nam có email là nam123@gmail.com và có phone là 382-384-3840.\n",
    "Hoa có email là hoa456@yahoo.com và có phone là 382-384-4000.\n",
    "'''.strip()\n",
    "regex = r'(\\w+)@(gmail|yahoo)\\.com'\n",
    "matches = re.finditer(regex, text)\n",
    "for match in matches:\n",
    "    print(match)"
   ]
  },
  {
   "cell_type": "code",
   "execution_count": null,
   "metadata": {},
   "outputs": [],
   "source": []
  },
  {
   "cell_type": "code",
   "execution_count": null,
   "metadata": {
    "scrolled": true
   },
   "outputs": [],
   "source": [
    "text = '''\n",
    "Nam có email là nam123@gmail.com và có phone là 382-384-3840.\n",
    "Hoa có email là hoa456@yahoo.com và có phone là 382-384-4000.\n",
    "'''.strip()\n",
    "regex = r'(\\w+)@(gmail|yahoo)\\.com'\n",
    "matches = re.findall(regex, text)\n",
    "matches"
   ]
  },
  {
   "cell_type": "code",
   "execution_count": 2,
   "metadata": {
    "scrolled": true
   },
   "outputs": [
    {
     "ename": "NameError",
     "evalue": "name 're' is not defined",
     "output_type": "error",
     "traceback": [
      "\u001b[0;31m---------------------------------------------------------------------------\u001b[0m",
      "\u001b[0;31mNameError\u001b[0m                                 Traceback (most recent call last)",
      "Cell \u001b[0;32mIn [2], line 6\u001b[0m\n\u001b[1;32m      1\u001b[0m text \u001b[38;5;241m=\u001b[39m \u001b[38;5;124m'''\u001b[39m\n\u001b[1;32m      2\u001b[0m \u001b[38;5;124mNam có email là nam123@gmail.com và có phone là 382-384-3840.\u001b[39m\n\u001b[1;32m      3\u001b[0m \u001b[38;5;124mHoa có email là hoa456@yahoo.com và có phone là 382-384-4000.\u001b[39m\n\u001b[1;32m      4\u001b[0m \u001b[38;5;124m'''\u001b[39m\u001b[38;5;241m.\u001b[39mstrip()\n\u001b[1;32m      5\u001b[0m regex \u001b[38;5;241m=\u001b[39m \u001b[38;5;124mr\u001b[39m\u001b[38;5;124m'\u001b[39m\u001b[38;5;124m\\\u001b[39m\u001b[38;5;124mw+@\u001b[39m\u001b[38;5;124m'\u001b[39m \u001b[38;5;66;03m# Không có group\u001b[39;00m\n\u001b[0;32m----> 6\u001b[0m matches \u001b[38;5;241m=\u001b[39m \u001b[43mre\u001b[49m\u001b[38;5;241m.\u001b[39mfindall(regex, text)\n\u001b[1;32m      7\u001b[0m matches\n",
      "\u001b[0;31mNameError\u001b[0m: name 're' is not defined"
     ]
    }
   ],
   "source": [
    "text = '''\n",
    "Nam có email là nam123@gmail.com và có phone là 382-384-3840.\n",
    "Hoa có email là hoa456@yahoo.com và có phone là 382-384-4000.\n",
    "'''.strip()\n",
    "regex = r'\\w+@' # Không có group\n",
    "matches = re.findall(regex, text)\n",
    "matches"
   ]
  },
  {
   "cell_type": "code",
   "execution_count": null,
   "metadata": {},
   "outputs": [],
   "source": []
  },
  {
   "cell_type": "code",
   "execution_count": null,
   "metadata": {},
   "outputs": [],
   "source": [
    "text = '1/1/2021, 5-1-2021, 3.1.2021, 4*1*2021'\n",
    "#Chuẩn hóa cách ghi date"
   ]
  },
  {
   "cell_type": "code",
   "execution_count": null,
   "metadata": {},
   "outputs": [],
   "source": []
  },
  {
   "cell_type": "code",
   "execution_count": null,
   "metadata": {},
   "outputs": [],
   "source": [
    "text = '''\n",
    "Chương 1: C..............01\n",
    "Chương 2: C++............05\n",
    "Chương 3: Python.........10\n",
    "'''.strip()\n",
    "#Tạo ra một list gồm cách dòng, mỗi dòng là một list gồm tên chương và số trang\n",
    "lines = text.split('')\n",
    "for line in lines:\n",
    "    print(re.split(, line))"
   ]
  },
  {
   "cell_type": "code",
   "execution_count": null,
   "metadata": {},
   "outputs": [],
   "source": []
  },
  {
   "cell_type": "code",
   "execution_count": null,
   "metadata": {
    "scrolled": true
   },
   "outputs": [],
   "source": [
    "text = '''\n",
    "Nam có email là nam123@gmail.com và có phone là 382-384-3840.\n",
    "Hoa có email là hoa456@yahoo.com và có phone là 382-384-4000.\n",
    "'''.strip()\n",
    "# Tìm chuỗi con \"nam\" không kể hoa thường\n",
    "regex = \n",
    "matches = \n",
    "matches"
   ]
  }
 ],
 "metadata": {
  "kernelspec": {
   "display_name": "Python 3 (ipykernel)",
   "language": "python",
   "name": "python3"
  },
  "language_info": {
   "codemirror_mode": {
    "name": "ipython",
    "version": 3
   },
   "file_extension": ".py",
   "mimetype": "text/x-python",
   "name": "python",
   "nbconvert_exporter": "python",
   "pygments_lexer": "ipython3",
   "version": "3.8.8"
  },
  "toc": {
   "base_numbering": 1,
   "nav_menu": {},
   "number_sections": true,
   "sideBar": true,
   "skip_h1_title": false,
   "title_cell": "Table of Contents",
   "title_sidebar": "Contents",
   "toc_cell": false,
   "toc_position": {},
   "toc_section_display": true,
   "toc_window_display": false
  }
 },
 "nbformat": 4,
 "nbformat_minor": 4
}
