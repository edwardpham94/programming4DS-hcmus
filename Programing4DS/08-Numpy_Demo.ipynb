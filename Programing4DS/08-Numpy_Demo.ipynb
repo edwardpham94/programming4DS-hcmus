{
 "cells": [
  {
   "cell_type": "markdown",
   "metadata": {
    "tags": []
   },
   "source": [
    "# Numpy"
   ]
  },
  {
   "cell_type": "markdown",
   "metadata": {},
   "source": [
    "Cập nhật lần cuối: 21/11/2021"
   ]
  },
  {
   "cell_type": "code",
   "execution_count": 1,
   "metadata": {
    "hide_input": false
   },
   "outputs": [],
   "source": [
    "import numpy as np\n",
    "\n",
    "import matplotlib.pyplot as plt\n",
    "import random # Thư viện built-in của Python "
   ]
  },
  {
   "cell_type": "markdown",
   "metadata": {
    "tags": []
   },
   "source": [
    "## Tại sao lại cần Numpy"
   ]
  },
  {
   "cell_type": "markdown",
   "metadata": {},
   "source": [
    "Nhân 2 ma trận bằng Python list + vòng lặp:"
   ]
  },
  {
   "cell_type": "code",
   "execution_count": 2,
   "metadata": {
    "tags": []
   },
   "outputs": [
    {
     "name": "stdout",
     "output_type": "stream",
     "text": [
      "1000 500\n",
      "500 1000\n"
     ]
    }
   ],
   "source": [
    "# Tạo 2 ma trận có kích thước 1000x500 và 500x1000\n",
    "nrows1 = 1000; ncols1 = nrows2 = 500; ncols2 = 1000\n",
    "m1_list = []\n",
    "for r in range(nrows1):\n",
    "    row_vals = []\n",
    "    for c in range(ncols1):\n",
    "        row_vals.append(random.randint(-100, 100))\n",
    "    m1_list.append(row_vals)\n",
    "    \n",
    "m2_list = []\n",
    "for r in range(nrows2):\n",
    "    row_vals = []\n",
    "    for c in range(ncols2):\n",
    "        row_vals.append(random.randint(-100, 100))\n",
    "    m2_list.append(row_vals)\n",
    "    \n",
    "print(len(m1_list), len(m1_list[0]))\n",
    "print(len(m2_list), len(m2_list[0]))"
   ]
  },
  {
   "cell_type": "code",
   "execution_count": 3,
   "metadata": {
    "tags": []
   },
   "outputs": [
    {
     "name": "stdout",
     "output_type": "stream",
     "text": [
      "CPU times: user 2min 7s, sys: 129 ms, total: 2min 8s\n",
      "Wall time: 2min 8s\n"
     ]
    }
   ],
   "source": [
    "%%time\n",
    "# Nhân 2 ma trận\n",
    "m3_list = []\n",
    "for r in range(nrows1):\n",
    "    row_vals = []\n",
    "    for c in range(ncols2):\n",
    "        temp = 0\n",
    "        for i in range(ncols1):\n",
    "            temp += m1_list[r][i] * m2_list[i][c]\n",
    "        row_vals.append(temp)\n",
    "    m3_list.append(row_vals)"
   ]
  },
  {
   "cell_type": "markdown",
   "metadata": {},
   "source": [
    "Nhân 2 ma trận bằng Numpy array + toán tử nhân ma trận của Numpy:"
   ]
  },
  {
   "cell_type": "code",
   "execution_count": 4,
   "metadata": {},
   "outputs": [],
   "source": [
    "m1_array = np.array(m1_list)\n",
    "m2_array = np.array(m2_list)"
   ]
  },
  {
   "cell_type": "code",
   "execution_count": 5,
   "metadata": {},
   "outputs": [
    {
     "name": "stdout",
     "output_type": "stream",
     "text": [
      "CPU times: user 598 ms, sys: 11 µs, total: 598 ms\n",
      "Wall time: 597 ms\n"
     ]
    }
   ],
   "source": [
    "%%time\n",
    "m3_array = m1_array @ m2_array"
   ]
  },
  {
   "cell_type": "markdown",
   "metadata": {},
   "source": [
    "So sánh 2 cách làm:\n",
    "\n",
    "- Thời gian viết code: ...\n",
    "- Thời gian chạy: ...\n",
    "- Kết quả: ..."
   ]
  },
  {
   "cell_type": "code",
   "execution_count": 6,
   "metadata": {},
   "outputs": [
    {
     "data": {
      "text/plain": [
       "True"
      ]
     },
     "execution_count": 6,
     "metadata": {},
     "output_type": "execute_result"
    }
   ],
   "source": [
    "# m3_list có bằng m3_array không?\n",
    "np.all(np.array(m3_list) == m3_array)"
   ]
  },
  {
   "cell_type": "markdown",
   "metadata": {
    "tags": []
   },
   "source": [
    "## Tạo Numpy array & xem thông tin của Numpy array "
   ]
  },
  {
   "cell_type": "code",
   "execution_count": 7,
   "metadata": {},
   "outputs": [
    {
     "data": {
      "text/plain": [
       "array([5., 6., 7., 8.])"
      ]
     },
     "execution_count": 7,
     "metadata": {},
     "output_type": "execute_result"
    }
   ],
   "source": [
    "# Tạo 1D array từ list\n",
    "a = np.array([5, 6, 7, 8], dtype='float')\n",
    "a"
   ]
  },
  {
   "cell_type": "code",
   "execution_count": 8,
   "metadata": {},
   "outputs": [
    {
     "data": {
      "text/plain": [
       "numpy.ndarray"
      ]
     },
     "execution_count": 8,
     "metadata": {},
     "output_type": "execute_result"
    }
   ],
   "source": [
    "type(a)"
   ]
  },
  {
   "cell_type": "code",
   "execution_count": 9,
   "metadata": {},
   "outputs": [
    {
     "data": {
      "text/plain": [
       "array([[5, 6, 7, 8],\n",
       "       [9, 0, 1, 2]])"
      ]
     },
     "execution_count": 9,
     "metadata": {},
     "output_type": "execute_result"
    }
   ],
   "source": [
    "# Tạo 2D array từ list\n",
    "b = np.array([[5, 6, 7, 8], [9, 0, 1, 2]])\n",
    "b"
   ]
  },
  {
   "cell_type": "code",
   "execution_count": 10,
   "metadata": {},
   "outputs": [
    {
     "name": "stdout",
     "output_type": "stream",
     "text": [
      "Số chiều: 2\n",
      "Số lượng phần tử của mỗi chiều: (2, 4)\n",
      "Tổng số lượng phần tử: 8\n",
      "Kiểu dữ liệu của mỗi phần tử: int64\n",
      "Kích thước (byte) của mỗi phần tử: 8\n",
      "Tổng kích thước (byte): 64\n"
     ]
    }
   ],
   "source": [
    "# Xem các thông tin của array\n",
    "print('Số chiều:', b.ndim)\n",
    "print('Số lượng phần tử của mỗi chiều:', b.shape)\n",
    "print('Tổng số lượng phần tử:', b.size)\n",
    "print('Kiểu dữ liệu của mỗi phần tử:', b.dtype)\n",
    "print('Kích thước (byte) của mỗi phần tử:', b.itemsize)\n",
    "print('Tổng kích thước (byte):', b.nbytes)"
   ]
  },
  {
   "cell_type": "code",
   "execution_count": 11,
   "metadata": {},
   "outputs": [
    {
     "data": {
      "text/plain": [
       "array([[0, 0, 0],\n",
       "       [0, 0, 0]])"
      ]
     },
     "execution_count": 11,
     "metadata": {},
     "output_type": "execute_result"
    }
   ],
   "source": [
    "# Tạo ra array toàn với cùng một giá trị, chẳng hạn 0\n",
    "a = np.full((2,3),0) # Shortcut: np.zeros((2,3)) (cũng có np.ones)\n",
    "a"
   ]
  },
  {
   "cell_type": "code",
   "execution_count": 12,
   "metadata": {},
   "outputs": [
    {
     "data": {
      "text/plain": [
       "array([[7, 6, 1],\n",
       "       [8, 6, 4]])"
      ]
     },
     "execution_count": 12,
     "metadata": {},
     "output_type": "execute_result"
    }
   ],
   "source": [
    "# Tạo ra array gồm các số được phát sinh ngẫu nghiên\n",
    "# Ví dụ, số nguyên được phát sinh theo phân bố đều trong [0, 10)   \n",
    "a = np.random.randint(0, 10, (2, 3))\n",
    "a"
   ]
  },
  {
   "cell_type": "code",
   "execution_count": 13,
   "metadata": {},
   "outputs": [
    {
     "data": {
      "text/plain": [
       "array([[4.64554932e-310, 0.00000000e+000, 0.00000000e+000],\n",
       "       [0.00000000e+000, 0.00000000e+000, 0.00000000e+000]])"
      ]
     },
     "execution_count": 13,
     "metadata": {},
     "output_type": "execute_result"
    }
   ],
   "source": [
    "# Tạo ra array rỗng (không khởi tạo giá trị)\n",
    "a = np.empty((2, 3))\n",
    "a"
   ]
  },
  {
   "cell_type": "code",
   "execution_count": 14,
   "metadata": {},
   "outputs": [
    {
     "data": {
      "text/plain": [
       "array([[1., 0., 0.],\n",
       "       [0., 1., 0.],\n",
       "       [0., 0., 1.]])"
      ]
     },
     "execution_count": 14,
     "metadata": {},
     "output_type": "execute_result"
    }
   ],
   "source": [
    "# Tạo ra ma trận đơn vị (identity matrix)\n",
    "a = np.eye(3)\n",
    "a"
   ]
  },
  {
   "cell_type": "code",
   "execution_count": 15,
   "metadata": {},
   "outputs": [
    {
     "data": {
      "text/plain": [
       "array([1. , 1.5, 2. , 2.5, 3. , 3.5, 4. , 4.5, 5. ])"
      ]
     },
     "execution_count": 15,
     "metadata": {},
     "output_type": "execute_result"
    }
   ],
   "source": [
    "# Tạo ra array gồm các số cách đều nhau\n",
    "# Ví dụ, array gồm: 1, 1.5, 2, 2.5, ..., 5\n",
    "# Cách 1: chỉ định đầu, cuối, và bước nhảy\n",
    "a = np.arange(1, 5.1, 0.5)\n",
    "a"
   ]
  },
  {
   "cell_type": "code",
   "execution_count": 16,
   "metadata": {},
   "outputs": [
    {
     "data": {
      "text/plain": [
       "array([1. , 1.5, 2. , 2.5, 3. , 3.5, 4. , 4.5, 5. ])"
      ]
     },
     "execution_count": 16,
     "metadata": {},
     "output_type": "execute_result"
    }
   ],
   "source": [
    "# Tạo ra array gồm các số cách đều nhau\n",
    "# Ví dụ, array gồm: 1, 1.5, 2, 2.5, ..., 5\n",
    "# Cách 2: chỉ định đầu, cuối, và số lượng phần tử\n",
    "a = np.linspace(1, 5, 9)\n",
    "a"
   ]
  },
  {
   "cell_type": "code",
   "execution_count": 17,
   "metadata": {},
   "outputs": [
    {
     "name": "stdout",
     "output_type": "stream",
     "text": [
      "[0 1 2 3 4 5]\n",
      "\n",
      "[[0 1 2]\n",
      " [3 4 5]]\n"
     ]
    }
   ],
   "source": [
    "# Tạo ra array từ một array khác bằng cách thay đổi shape\n",
    "a = np.arange(6)\n",
    "print(a)\n",
    "b = a.reshape((2, 3), order='C')\n",
    "print()\n",
    "print(b)"
   ]
  },
  {
   "cell_type": "markdown",
   "metadata": {},
   "source": [
    "`b` trỏ tới một array object khác với `a`:"
   ]
  },
  {
   "cell_type": "code",
   "execution_count": 18,
   "metadata": {},
   "outputs": [
    {
     "data": {
      "text/plain": [
       "False"
      ]
     },
     "execution_count": 18,
     "metadata": {},
     "output_type": "execute_result"
    }
   ],
   "source": [
    "b is a"
   ]
  },
  {
   "cell_type": "markdown",
   "metadata": {},
   "source": [
    "Nếu object mà `b` trỏ tới hoàn toàn độc lập với object mà `a` trỏ tới thì `b` được gọi là một copy (deep copy) của `a` $\\to$ khi thay đổi dữ liệu ở `b` (ví dụ, cho `b[0, 0] = 99`) thì không làm ảnh hưởng đến dữ liệu ở `a`.\n",
    "\n",
    "Còn nếu object mà `b` trỏ tới dùng chung dữ liệu (một object có khá nhiều thành phần, trong đó có dữ liệu) với object mà `a` trỏ tới thì `b` được gọi là view (shallow copy) của `a` $\\to$ khi thay đổi dữ liệu ở `b` thì sẽ làm thay đổi dữ liệu ở `a`.\n",
    "\n",
    "Ở đây, `b` là có được bằng cách reshape `a`. Vậy `b` là copy hay là view của `a`?\n",
    "\n",
    "Một cách là kiểm tra `b.flags.owndata`. Nếu kết quả là True thì có nghĩa là `b` có dữ liệu độc lập của `b`, tức `b` là copy của `a`; ngược lại `b` là view của `a`."
   ]
  },
  {
   "cell_type": "code",
   "execution_count": 19,
   "metadata": {},
   "outputs": [
    {
     "name": "stdout",
     "output_type": "stream",
     "text": [
      "True\n",
      "False\n"
     ]
    }
   ],
   "source": [
    "print(a.flags.owndata)\n",
    "print(b.flags.owndata)"
   ]
  },
  {
   "cell_type": "code",
   "execution_count": 20,
   "metadata": {},
   "outputs": [
    {
     "data": {
      "text/plain": [
       "array([99,  1,  2,  3,  4,  5])"
      ]
     },
     "execution_count": 20,
     "metadata": {},
     "output_type": "execute_result"
    }
   ],
   "source": [
    "b[0, 0] = 99\n",
    "a"
   ]
  },
  {
   "cell_type": "code",
   "execution_count": 21,
   "metadata": {
    "jupyter": {
     "outputs_hidden": true
    },
    "scrolled": true
   },
   "outputs": [
    {
     "data": {
      "text/plain": [
       "array([[ 0.  ,  0.  ,  0.  ,  0.  ],\n",
       "       [10.  , 10.  , 10.  ,  9.5 ],\n",
       "       [10.  ,  9.25,  9.  ,  7.  ],\n",
       "       [10.  ,  9.5 ,  9.85,  8.  ],\n",
       "       [10.  ,  9.75,  9.75,  9.  ],\n",
       "       [10.  , 10.  , 10.  ,  8.5 ],\n",
       "       [10.  , 10.  ,  9.75,  9.  ],\n",
       "       [10.  ,  9.5 ,  9.7 ,  9.  ],\n",
       "       [10.  ,  9.75,  9.35,  9.  ],\n",
       "       [10.  , 10.  ,  9.6 ,  8.  ],\n",
       "       [ 9.  ,  9.25,  9.9 ,  7.5 ],\n",
       "       [10.  , 10.  , 10.  ,  8.  ],\n",
       "       [10.  ,  8.5 ,  5.75,  7.  ],\n",
       "       [10.  ,  9.5 ,  9.75,  8.  ],\n",
       "       [ 9.25, 10.  , 10.  ,  8.5 ],\n",
       "       [10.  , 10.  , 10.  , 10.  ],\n",
       "       [ 8.5 ,  8.25,  0.  ,  0.  ],\n",
       "       [10.  , 10.  ,  9.9 ,  9.  ],\n",
       "       [10.  ,  9.5 ,  9.45,  9.  ],\n",
       "       [ 9.75, 10.  , 10.  ,  9.  ],\n",
       "       [10.  , 10.  ,  9.  , 10.  ],\n",
       "       [10.  ,  9.75, 10.  , 10.  ],\n",
       "       [ 9.75,  9.5 ,  5.25,  6.5 ],\n",
       "       [ 9.75,  9.75, 10.  ,  9.5 ],\n",
       "       [ 9.5 , 10.  , 10.  ,  7.5 ],\n",
       "       [10.  ,  9.25,  9.9 ,  9.  ],\n",
       "       [10.  , 10.  , 10.  ,  7.5 ],\n",
       "       [ 9.5 , 10.  ,  9.75,  9.5 ],\n",
       "       [ 9.75, 10.  ,  9.4 ,  7.  ],\n",
       "       [ 1.5 ,  5.5 ,  9.  ,  7.5 ],\n",
       "       [10.  ,  8.  , 10.  ,  9.  ],\n",
       "       [10.  ,  9.  , 10.  ,  9.  ],\n",
       "       [ 9.75, 10.  ,  9.6 ,  7.  ],\n",
       "       [10.  , 10.  , 10.  ,  7.  ],\n",
       "       [ 8.75, 10.  ,  8.25,  7.5 ],\n",
       "       [ 0.  ,  9.  ,  9.55,  6.5 ],\n",
       "       [ 9.5 , 10.  ,  9.75,  6.5 ],\n",
       "       [ 9.75,  9.5 ,  9.2 ,  7.  ],\n",
       "       [ 0.  ,  9.75,  0.  ,  8.5 ],\n",
       "       [10.  ,  9.5 ,  9.8 ,  6.5 ],\n",
       "       [10.  , 10.  , 10.  ,  9.  ],\n",
       "       [ 9.5 , 10.  ,  9.  ,  8.5 ],\n",
       "       [10.  , 10.  , 10.  , 10.  ],\n",
       "       [ 0.  ,  8.5 ,  9.6 ,  9.  ],\n",
       "       [ 9.75, 10.  , 10.  ,  8.  ]])"
      ]
     },
     "execution_count": 21,
     "metadata": {},
     "output_type": "execute_result"
    }
   ],
   "source": [
    "# Tạo array từ file\n",
    "# File 'P4DS-Grades.csv' chứa điểm môn này của khóa trước ;-)\n",
    "# 3 cột đầu ứng với điểm 3 HW (mỗi HW chiếm 50%/3 tổng điểm)\n",
    "# cột cuối ứng điểm đồ án cuối kỳ (chiếm 50% tổng điểm)\n",
    "p4ds_grades = np.genfromtxt('Data/P4DS-Grades.csv', \n",
    "                            delimiter=',', skip_header=1)\n",
    "p4ds_grades"
   ]
  },
  {
   "cell_type": "markdown",
   "metadata": {
    "tags": []
   },
   "source": [
    "## Truy xuất (và thay đổi) các phần tử trong Numpy array"
   ]
  },
  {
   "cell_type": "markdown",
   "metadata": {
    "heading_collapsed": true
   },
   "source": [
    "### Integer indexing"
   ]
  },
  {
   "cell_type": "code",
   "execution_count": 22,
   "metadata": {
    "hidden": true
   },
   "outputs": [
    {
     "data": {
      "text/plain": [
       "0.0"
      ]
     },
     "execution_count": 22,
     "metadata": {},
     "output_type": "execute_result"
    }
   ],
   "source": [
    "# Sinh viên đầu tiên có điểm đồ án cuối kỳ là bao nhiêu?\n",
    "p4ds_grades[0, -1]"
   ]
  },
  {
   "cell_type": "code",
   "execution_count": 23,
   "metadata": {
    "hidden": true,
    "scrolled": true
   },
   "outputs": [
    {
     "data": {
      "text/plain": [
       "8.0"
      ]
     },
     "execution_count": 23,
     "metadata": {},
     "output_type": "execute_result"
    }
   ],
   "source": [
    "# Sinh viên cuối cùng có điểm đồ án cuối kỳ là bao nhiêu?\n",
    "p4ds_grades[-1, -1]"
   ]
  },
  {
   "cell_type": "code",
   "execution_count": 24,
   "metadata": {
    "hidden": true,
    "scrolled": true
   },
   "outputs": [
    {
     "data": {
      "text/plain": [
       "array([[ 0.  ,  0.  ,  0.  ,  0.5 ],\n",
       "       [10.  , 10.  , 10.  ,  9.5 ],\n",
       "       [10.  ,  9.25,  9.  ,  7.  ],\n",
       "       [10.  ,  9.5 ,  9.85,  8.  ],\n",
       "       [10.  ,  9.75,  9.75,  9.  ],\n",
       "       [10.  , 10.  , 10.  ,  8.5 ],\n",
       "       [10.  , 10.  ,  9.75,  9.  ],\n",
       "       [10.  ,  9.5 ,  9.7 ,  9.  ],\n",
       "       [10.  ,  9.75,  9.35,  9.  ],\n",
       "       [10.  , 10.  ,  9.6 ,  8.  ],\n",
       "       [ 9.  ,  9.25,  9.9 ,  7.5 ],\n",
       "       [10.  , 10.  , 10.  ,  8.  ],\n",
       "       [10.  ,  8.5 ,  5.75,  7.  ],\n",
       "       [10.  ,  9.5 ,  9.75,  8.  ],\n",
       "       [ 9.25, 10.  , 10.  ,  8.5 ],\n",
       "       [10.  , 10.  , 10.  , 10.  ],\n",
       "       [ 8.5 ,  8.25,  0.  ,  0.  ],\n",
       "       [10.  , 10.  ,  9.9 ,  9.  ],\n",
       "       [10.  ,  9.5 ,  9.45,  9.  ],\n",
       "       [ 9.75, 10.  , 10.  ,  9.  ],\n",
       "       [10.  , 10.  ,  9.  , 10.  ],\n",
       "       [10.  ,  9.75, 10.  , 10.  ],\n",
       "       [ 9.75,  9.5 ,  5.25,  6.5 ],\n",
       "       [ 9.75,  9.75, 10.  ,  9.5 ],\n",
       "       [ 9.5 , 10.  , 10.  ,  7.5 ],\n",
       "       [10.  ,  9.25,  9.9 ,  9.  ],\n",
       "       [10.  , 10.  , 10.  ,  7.5 ],\n",
       "       [ 9.5 , 10.  ,  9.75,  9.5 ],\n",
       "       [ 9.75, 10.  ,  9.4 ,  7.  ],\n",
       "       [ 1.5 ,  5.5 ,  9.  ,  7.5 ],\n",
       "       [10.  ,  8.  , 10.  ,  9.  ],\n",
       "       [10.  ,  9.  , 10.  ,  9.  ],\n",
       "       [ 9.75, 10.  ,  9.6 ,  7.  ],\n",
       "       [10.  , 10.  , 10.  ,  7.  ],\n",
       "       [ 8.75, 10.  ,  8.25,  7.5 ],\n",
       "       [ 0.  ,  9.  ,  9.55,  6.5 ],\n",
       "       [ 9.5 , 10.  ,  9.75,  6.5 ],\n",
       "       [ 9.75,  9.5 ,  9.2 ,  7.  ],\n",
       "       [ 0.  ,  9.75,  0.  ,  8.5 ],\n",
       "       [10.  ,  9.5 ,  9.8 ,  6.5 ],\n",
       "       [10.  , 10.  , 10.  ,  9.  ],\n",
       "       [ 9.5 , 10.  ,  9.  ,  8.5 ],\n",
       "       [10.  , 10.  , 10.  , 10.  ],\n",
       "       [ 0.  ,  8.5 ,  9.6 ,  9.  ],\n",
       "       [ 9.75, 10.  , 10.  ,  8.  ]])"
      ]
     },
     "execution_count": 24,
     "metadata": {},
     "output_type": "execute_result"
    }
   ],
   "source": [
    "# Sửa điểm đồ án cho sinh viên đầu tiên thành 0.5\n",
    "p4ds_grades[0, -1] = 0.5\n",
    "p4ds_grades"
   ]
  },
  {
   "cell_type": "markdown",
   "metadata": {
    "heading_collapsed": true
   },
   "source": [
    "### Slicing"
   ]
  },
  {
   "cell_type": "code",
   "execution_count": 25,
   "metadata": {
    "hidden": true
   },
   "outputs": [
    {
     "data": {
      "text/plain": [
       "array([[ 0.  ,  0.  ,  0.  ],\n",
       "       [10.  , 10.  , 10.  ],\n",
       "       [10.  ,  9.25,  9.  ],\n",
       "       [10.  ,  9.5 ,  9.85],\n",
       "       [10.  ,  9.75,  9.75]])"
      ]
     },
     "execution_count": 25,
     "metadata": {},
     "output_type": "execute_result"
    }
   ],
   "source": [
    "# 5 sinh viên đầu có điểm 3 HW là bao nhiêu?\n",
    "p4ds_grades[:5, :3]"
   ]
  },
  {
   "cell_type": "code",
   "execution_count": 26,
   "metadata": {
    "hidden": true,
    "scrolled": true
   },
   "outputs": [
    {
     "data": {
      "text/plain": [
       "array([[ 0.5],\n",
       "       [ 9.5],\n",
       "       [ 7. ],\n",
       "       [ 8. ],\n",
       "       [ 9. ],\n",
       "       [ 8.5],\n",
       "       [ 9. ],\n",
       "       [ 9. ],\n",
       "       [ 9. ],\n",
       "       [ 8. ],\n",
       "       [ 7.5],\n",
       "       [ 8. ],\n",
       "       [ 7. ],\n",
       "       [ 8. ],\n",
       "       [ 8.5],\n",
       "       [10. ],\n",
       "       [ 0. ],\n",
       "       [ 9. ],\n",
       "       [ 9. ],\n",
       "       [ 9. ],\n",
       "       [10. ],\n",
       "       [10. ],\n",
       "       [ 6.5],\n",
       "       [ 9.5],\n",
       "       [ 7.5],\n",
       "       [ 9. ],\n",
       "       [ 7.5],\n",
       "       [ 9.5],\n",
       "       [ 7. ],\n",
       "       [ 7.5],\n",
       "       [ 9. ],\n",
       "       [ 9. ],\n",
       "       [ 7. ],\n",
       "       [ 7. ],\n",
       "       [ 7.5],\n",
       "       [ 6.5],\n",
       "       [ 6.5],\n",
       "       [ 7. ],\n",
       "       [ 8.5],\n",
       "       [ 6.5],\n",
       "       [ 9. ],\n",
       "       [ 8.5],\n",
       "       [10. ],\n",
       "       [ 9. ],\n",
       "       [ 8. ]])"
      ]
     },
     "execution_count": 26,
     "metadata": {},
     "output_type": "execute_result"
    }
   ],
   "source": [
    "# Lấy ra cột điểm đồ án cuối kỳ\n",
    "p4ds_grades[:, -1:]"
   ]
  },
  {
   "cell_type": "code",
   "execution_count": 27,
   "metadata": {
    "hidden": true
   },
   "outputs": [
    {
     "data": {
      "text/plain": [
       "array([ 0.5,  9.5,  7. ,  8. ,  9. ,  8.5,  9. ,  9. ,  9. ,  8. ,  7.5,\n",
       "        8. ,  7. ,  8. ,  8.5, 10. ,  0. ,  9. ,  9. ,  9. , 10. , 10. ,\n",
       "        6.5,  9.5,  7.5,  9. ,  7.5,  9.5,  7. ,  7.5,  9. ,  9. ,  7. ,\n",
       "        7. ,  7.5,  6.5,  6.5,  7. ,  8.5,  6.5,  9. ,  8.5, 10. ,  9. ,\n",
       "        8. ])"
      ]
     },
     "execution_count": 27,
     "metadata": {},
     "output_type": "execute_result"
    }
   ],
   "source": [
    "# Lấy ra cột điểm đồ án cuối kỳ\n",
    "# bằng cách kết hợp slicing với integer indexing \n",
    "p4ds_grades[:, -1] # Array kết quả bị giảm chiều"
   ]
  },
  {
   "cell_type": "code",
   "execution_count": 28,
   "metadata": {
    "hidden": true,
    "scrolled": true
   },
   "outputs": [
    {
     "data": {
      "text/plain": [
       "array([ 9.75, 10.  , 10.  ,  8.  ])"
      ]
     },
     "execution_count": 28,
     "metadata": {},
     "output_type": "execute_result"
    }
   ],
   "source": [
    "# Sinh viên cuối cùng có các điểm là bao nhiêu?\n",
    "# (lấy ra mảng một chiều)\n",
    "p4ds_grades[-1, :] # Hoặc: p4ds_grades[-1]"
   ]
  },
  {
   "cell_type": "code",
   "execution_count": 29,
   "metadata": {
    "hidden": true,
    "scrolled": true
   },
   "outputs": [
    {
     "name": "stdout",
     "output_type": "stream",
     "text": [
      "False\n"
     ]
    },
    {
     "data": {
      "text/plain": [
       "array([[ 0.  ,  0.  ,  0.  ,  0.5 ],\n",
       "       [10.  , 10.  , 10.  ,  9.5 ],\n",
       "       [10.  ,  9.25,  9.  ,  7.  ],\n",
       "       [10.  ,  9.5 ,  9.85,  8.  ],\n",
       "       [10.  ,  9.75,  9.75,  9.  ],\n",
       "       [10.  , 10.  , 10.  ,  8.5 ],\n",
       "       [10.  , 10.  ,  9.75,  9.  ],\n",
       "       [10.  ,  9.5 ,  9.7 ,  9.  ],\n",
       "       [10.  ,  9.75,  9.35,  9.  ],\n",
       "       [10.  , 10.  ,  9.6 ,  8.  ],\n",
       "       [ 9.  ,  9.25,  9.9 ,  7.5 ],\n",
       "       [10.  , 10.  , 10.  ,  8.  ],\n",
       "       [10.  ,  8.5 ,  5.75,  7.  ],\n",
       "       [10.  ,  9.5 ,  9.75,  8.  ],\n",
       "       [ 9.25, 10.  , 10.  ,  8.5 ],\n",
       "       [10.  , 10.  , 10.  , 10.  ],\n",
       "       [ 8.5 ,  8.25,  0.  ,  0.  ],\n",
       "       [10.  , 10.  ,  9.9 ,  9.  ],\n",
       "       [10.  ,  9.5 ,  9.45,  9.  ],\n",
       "       [ 9.75, 10.  , 10.  ,  9.  ],\n",
       "       [10.  , 10.  ,  9.  , 10.  ],\n",
       "       [10.  ,  9.75, 10.  , 10.  ],\n",
       "       [ 9.75,  9.5 ,  5.25,  6.5 ],\n",
       "       [ 9.75,  9.75, 10.  ,  9.5 ],\n",
       "       [ 9.5 , 10.  , 10.  ,  7.5 ],\n",
       "       [10.  ,  9.25,  9.9 ,  9.  ],\n",
       "       [10.  , 10.  , 10.  ,  7.5 ],\n",
       "       [ 9.5 , 10.  ,  9.75,  9.5 ],\n",
       "       [ 9.75, 10.  ,  9.4 ,  7.  ],\n",
       "       [ 1.5 ,  5.5 ,  9.  ,  7.5 ],\n",
       "       [10.  ,  8.  , 10.  ,  9.  ],\n",
       "       [10.  ,  9.  , 10.  ,  9.  ],\n",
       "       [ 9.75, 10.  ,  9.6 ,  7.  ],\n",
       "       [10.  , 10.  , 10.  ,  7.  ],\n",
       "       [ 8.75, 10.  ,  8.25,  7.5 ],\n",
       "       [ 0.  ,  9.  ,  9.55,  6.5 ],\n",
       "       [ 9.5 , 10.  ,  9.75,  6.5 ],\n",
       "       [ 9.75,  9.5 ,  9.2 ,  7.  ],\n",
       "       [ 0.  ,  9.75,  0.  ,  8.5 ],\n",
       "       [10.  ,  9.5 ,  9.8 ,  6.5 ],\n",
       "       [10.  , 10.  , 10.  ,  9.  ],\n",
       "       [ 9.5 , 10.  ,  9.  ,  8.5 ],\n",
       "       [10.  , 10.  , 10.  , 10.  ],\n",
       "       [ 0.  ,  8.5 ,  9.6 ,  9.  ],\n",
       "       [ 9.5 , 10.  , 10.  ,  8.  ]])"
      ]
     },
     "execution_count": 29,
     "metadata": {},
     "output_type": "execute_result"
    }
   ],
   "source": [
    "# Array có được khi thực hiện slicing \n",
    "# là view hay copy của array ban đầu?\n",
    "temp = p4ds_grades[-1, :]\n",
    "print(temp.flags.owndata)\n",
    "temp[0] = 9.5\n",
    "p4ds_grades"
   ]
  },
  {
   "cell_type": "code",
   "execution_count": 30,
   "metadata": {
    "hidden": true
   },
   "outputs": [
    {
     "data": {
      "text/plain": [
       "[1, 2, 3]"
      ]
     },
     "execution_count": 30,
     "metadata": {},
     "output_type": "execute_result"
    }
   ],
   "source": [
    "# Để ý sự kết biệt giữa slicing ở Numpy array và slicing ở list\n",
    "l = [1, 2, 3]\n",
    "temp = l[:]\n",
    "temp[0] = 999\n",
    "l"
   ]
  },
  {
   "cell_type": "markdown",
   "metadata": {
    "heading_collapsed": true
   },
   "source": [
    "### Bool array indexing"
   ]
  },
  {
   "cell_type": "code",
   "execution_count": 31,
   "metadata": {
    "hidden": true
   },
   "outputs": [
    {
     "data": {
      "text/plain": [
       "array([0.5, 0. ])"
      ]
     },
     "execution_count": 31,
     "metadata": {},
     "output_type": "execute_result"
    }
   ],
   "source": [
    "# Lấy ra các điểm đồ án cuối kỳ < 5\n",
    "final_grades = p4ds_grades[:, -1]\n",
    "mask = final_grades < 5\n",
    "final_grades[mask]\n",
    "# final_grades[final_grades < 5]"
   ]
  },
  {
   "cell_type": "code",
   "execution_count": 32,
   "metadata": {
    "hidden": true
   },
   "outputs": [
    {
     "data": {
      "text/plain": [
       "array([8. , 9. , 8.5, 9. , 9. , 9. , 8. , 8. , 8. , 8.5, 9. , 9. , 9. ,\n",
       "       9. , 9. , 9. , 8.5, 9. , 8.5, 9. , 8. ])"
      ]
     },
     "execution_count": 32,
     "metadata": {},
     "output_type": "execute_result"
    }
   ],
   "source": [
    "# Lấy ra các điểm đồ án cuối kỳ >= 8 và <= 9\n",
    "final_grades[(final_grades >= 8) & (final_grades <= 9)]"
   ]
  },
  {
   "cell_type": "code",
   "execution_count": 33,
   "metadata": {
    "hidden": true
   },
   "outputs": [
    {
     "data": {
      "text/plain": [
       "array([10., 10., 10., 10.])"
      ]
     },
     "execution_count": 33,
     "metadata": {},
     "output_type": "execute_result"
    }
   ],
   "source": [
    "# Lấy ra điểm HW1 của các sinh viên có điểm đồ án cuối kỳ = 10\n",
    "# bằng cách kết hợp bool array indexing với integer indexing\n",
    "p4ds_grades[final_grades == 10, 0] # Array kết quả bị giảm chiều"
   ]
  },
  {
   "cell_type": "code",
   "execution_count": 34,
   "metadata": {
    "hidden": true
   },
   "outputs": [
    {
     "data": {
      "text/plain": [
       "array([[10.  , 10.  , 10.  , 10.  ],\n",
       "       [10.  , 10.  ,  9.  , 10.  ],\n",
       "       [10.  ,  9.75, 10.  , 10.  ],\n",
       "       [10.  , 10.  , 10.  , 10.  ]])"
      ]
     },
     "execution_count": 34,
     "metadata": {},
     "output_type": "execute_result"
    }
   ],
   "source": [
    "# Lấy ra các điểm ứng với các sinh viên có điểm đồ án cuối kỳ = 10\n",
    "# bằng cách kết hợp bool array indexing với slicing\n",
    "p4ds_grades[final_grades == 10, :]"
   ]
  },
  {
   "cell_type": "markdown",
   "metadata": {
    "heading_collapsed": true
   },
   "source": [
    "### Integer array indexing"
   ]
  },
  {
   "cell_type": "code",
   "execution_count": 35,
   "metadata": {
    "hidden": true
   },
   "outputs": [
    {
     "data": {
      "text/plain": [
       "array([0.  , 9.75, 8.  ])"
      ]
     },
     "execution_count": 35,
     "metadata": {},
     "output_type": "execute_result"
    }
   ],
   "source": [
    "# Lấy ra điểm HW1 của sinh viên thứ nhất\n",
    "#        điểm HW2 của sinh viên thứ năm\n",
    "#        điểm đồ án cuối kỳ của sinh viên thứ mười\n",
    "p4ds_grades[[0, 4, 9], [0, 1, -1]]"
   ]
  },
  {
   "cell_type": "code",
   "execution_count": 36,
   "metadata": {
    "hidden": true
   },
   "outputs": [
    {
     "data": {
      "text/plain": [
       "array([[10.  ,  9.5 ,  9.85,  8.  ],\n",
       "       [10.  ,  9.5 ,  9.7 ,  9.  ],\n",
       "       [ 9.  ,  9.25,  9.9 ,  7.5 ],\n",
       "       [ 9.5 , 10.  ,  9.  ,  8.5 ],\n",
       "       [10.  , 10.  ,  9.9 ,  9.  ]])"
      ]
     },
     "execution_count": 36,
     "metadata": {},
     "output_type": "execute_result"
    }
   ],
   "source": [
    "# Lấy ra ngẫu nhiên 5 sinh viên để xem điểm\n",
    "# rand_idxs = np.random.randint(0, len(p4ds_grades), size=5) \n",
    "rand_idxs = np.random.permutation(np.arange(len(p4ds_grades)))[:5]\n",
    "p4ds_grades[rand_idxs]"
   ]
  },
  {
   "cell_type": "markdown",
   "metadata": {
    "tags": []
   },
   "source": [
    "## Bài tập: vẽ hình"
   ]
  },
  {
   "cell_type": "markdown",
   "metadata": {},
   "source": [
    "Vẽ bàn cờ 8x8 như hình. Bạn có thể tùy ý chọn màu cho ô (xem giá trị rgb của các màu [ở đây](https://flaviocopes.com/rgb-color-codes/)). Nếu bạn có array 3 chiều với `shape` là height x with x 3 và `dtype` là `np.uint8` thì bạn có thể trực quan hóa array này dưới dạng ảnh bằng hàm `plt.imshow`.\n",
    "![image.png](data:image/png;base64,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)"
   ]
  },
  {
   "cell_type": "code",
   "execution_count": 37,
   "metadata": {},
   "outputs": [
    {
     "data": {
      "image/png": "[encoded data removed]",
      "text/plain": [
       "<Figure size 432x288 with 1 Axes>"
      ]
     },
     "metadata": {
      "needs_background": "light"
     },
     "output_type": "display_data"
    }
   ],
   "source": [
    "a = np.zeros((8, 8, 3), dtype=np.uint8)\n",
    "yellow_green = [154, 205, 50]\n",
    "a[::2, ::2] = yellow_green\n",
    "a[1::2, 1::2] = yellow_green\n",
    "plt.imshow(a)\n",
    "plt.xticks(range(8))\n",
    "plt.yticks(range(8));"
   ]
  },
  {
   "cell_type": "markdown",
   "metadata": {},
   "source": [
    "Vẽ hình như bên dưới với background là màu silver (192,192,192) và foreground là màu gold (184,134,11).\n",
    "![image.png](data:image/png;base64,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)"
   ]
  },
  {
   "cell_type": "code",
   "execution_count": 38,
   "metadata": {},
   "outputs": [
    {
     "data": {
      "image/png": "[encoded data removed]",
      "text/plain": [
       "<Figure size 432x288 with 1 Axes>"
      ]
     },
     "metadata": {
      "needs_background": "light"
     },
     "output_type": "display_data"
    }
   ],
   "source": [
    "a = np.zeros((7, 7, 3), dtype=np.uint8)\n",
    "gold = [184, 134, 11]\n",
    "silver = [192, 192, 192]\n",
    "a[:, :] = silver\n",
    "a[range(3, -1, -1), range(0, 4, 1)] = gold\n",
    "a[range(0, 4, 1), range(3, 7, 1)] = gold\n",
    "a[range(3, 7, 1), range(0, 4, 1)] = gold\n",
    "a[range(3, 7, 1), range(6, 2, -1)] = gold\n",
    "plt.imshow(a)\n",
    "plt.xticks(range(7))\n",
    "plt.yticks(range(7));"
   ]
  },
  {
   "cell_type": "markdown",
   "metadata": {
    "tags": []
   },
   "source": [
    "## Tính toán trên Numpy array "
   ]
  },
  {
   "cell_type": "markdown",
   "metadata": {},
   "source": [
    "Để sử dụng Numpy hiệu quả thì thay đổi cách tư duy: cần suy nghĩ về <font color=blue>các thao tác tính toán trên nguyên mảng</font> mà Numpy đã cung cấp, chứ không phải là các thao tác tính toán trên từng con số"
   ]
  },
  {
   "cell_type": "markdown",
   "metadata": {},
   "source": [
    "Hầu hết mọi thao tác tính toán trên mảng mà ta có thể nghĩ tới thì đều đã được Numpy cung cấp:\n",
    "\n",
    "`+`, `np.add`\\\n",
    "`-`, `np.subtract`\\\n",
    "`-`, `np.negative`\\\n",
    "`*`, `np.multiply`\\\n",
    "`@`, `np.dot`\\\n",
    "`/`, `np.divide`\\\n",
    "`//`, `np.floor_divide`\\\n",
    "`**`, `np.power`\\\n",
    "`%`, `np.mod`\\\n",
    "`np.abs`\\\n",
    "`np.exp`\\\n",
    "`np.log`\\\n",
    "...\n",
    "\n",
    "`==`, `np.equal`\\\n",
    "`<`, `np.less`\\\n",
    "`>`, `np.greater`\\\n",
    "`!=`, `np.not_equal`\\\n",
    "`<=`, `np.less_equal`\\\n",
    "`>=`, `np.greater_equal`\\\n",
    "`&`, `np.bitwise_and`\\\n",
    "`|`, `np.bitwise_or`\\\n",
    "`~`, `np.bitwise_not`\\\n",
    "`np.nonzero`\\\n",
    "`np.any`\\\n",
    "`np.all`\\\n",
    "...\n",
    "\n",
    "`np.sum`\\\n",
    "`np.prod`\\\n",
    "`np.min`\\\n",
    "`np.max`\\\n",
    "`np.argmin`\\\n",
    "`np.argmax`\\\n",
    "...\n",
    "\n",
    "`np.mean`\\\n",
    "`np.std`\\\n",
    "`np.percentile`\\\n",
    "`np.histogram`\\\n",
    "`np.unique`\\\n",
    "`np.sort`\\\n",
    "`np.argsort`\\\n",
    "...\n",
    "\n",
    "Với một tính toán nào đó trên Numpy array, ngoài dạng hàm (hoặc toán tử) thì thường ta cũng có thể gọi phương thức tương đương từ Numpy array \\\n",
    "$\\to$ Giúp đáp ứng các \"khẩu vị code\" khác nhau của người dùng"
   ]
  },
  {
   "cell_type": "code",
   "execution_count": 39,
   "metadata": {},
   "outputs": [
    {
     "name": "stdout",
     "output_type": "stream",
     "text": [
      "[0. 0. 0. 0.]\n",
      "[10. 10. 10. 10.]\n"
     ]
    }
   ],
   "source": [
    "# Tính min, max của mỗi cột điểm\n",
    "# để xem có gì bất thường không\n",
    "print(np.min(p4ds_grades, axis=0))\n",
    "print(np.max(p4ds_grades, axis=0))"
   ]
  },
  {
   "cell_type": "code",
   "execution_count": 40,
   "metadata": {},
   "outputs": [
    {
     "data": {
      "text/plain": [
       "array([ 0.25      ,  9.75      ,  8.20833333,  8.89166667,  9.41666667,\n",
       "        9.25      ,  9.45833333,  9.36666667,  9.35      ,  8.93333333,\n",
       "        8.44166667,  9.        ,  7.54166667,  8.875     ,  9.125     ,\n",
       "       10.        ,  2.79166667,  9.48333333,  9.325     ,  9.45833333,\n",
       "        9.83333333,  9.95833333,  7.33333333,  9.66666667,  8.66666667,\n",
       "        9.35833333,  8.75      ,  9.625     ,  8.35833333,  6.41666667,\n",
       "        9.16666667,  9.33333333,  8.39166667,  8.5       ,  8.25      ,\n",
       "        6.34166667,  8.125     ,  8.24166667,  5.875     ,  8.13333333,\n",
       "        9.5       ,  9.        , 10.        ,  7.51666667,  8.91666667])"
      ]
     },
     "execution_count": 40,
     "metadata": {},
     "output_type": "execute_result"
    }
   ],
   "source": [
    "# Tính cột điểm tổng kết\n",
    "avg_grades = (p4ds_grades[:, 0] * 0.5 / 3 \n",
    "              + p4ds_grades[:, 1] * 0.5 / 3\n",
    "              + p4ds_grades[:, 2] * 0.5 / 3\n",
    "              + p4ds_grades[:, 3] * 0.5)\n",
    "avg_grades"
   ]
  },
  {
   "cell_type": "code",
   "execution_count": 41,
   "metadata": {},
   "outputs": [
    {
     "data": {
      "text/plain": [
       "0.044444444444444446"
      ]
     },
     "execution_count": 41,
     "metadata": {},
     "output_type": "execute_result"
    }
   ],
   "source": [
    "# Tỉ lệ SV rớt môn là bao nhiêu?\n",
    "# np.sum(avg_grades < 5) / len(avg_grades)\n",
    "np.mean(avg_grades < 5)"
   ]
  }
 ],
 "metadata": {
  "kernelspec": {
   "display_name": "Python 3 (ipykernel)",
   "language": "python",
   "name": "python3"
  },
  "language_info": {
   "codemirror_mode": {
    "name": "ipython",
    "version": 3
   },
   "file_extension": ".py",
   "mimetype": "text/x-python",
   "name": "python",
   "nbconvert_exporter": "python",
   "pygments_lexer": "ipython3",
   "version": "3.8.8"
  },
  "toc": {
   "base_numbering": 1,
   "nav_menu": {},
   "number_sections": false,
   "sideBar": true,
   "skip_h1_title": false,
   "title_cell": "Table of Contents",
   "title_sidebar": "Contents",
   "toc_cell": false,
   "toc_position": {
    "height": "338.4px",
    "left": "140px",
    "top": "32.133px",
    "width": "165px"
   },
   "toc_section_display": true,
   "toc_window_display": true
  }
 },
 "nbformat": 4,
 "nbformat_minor": 4
}
