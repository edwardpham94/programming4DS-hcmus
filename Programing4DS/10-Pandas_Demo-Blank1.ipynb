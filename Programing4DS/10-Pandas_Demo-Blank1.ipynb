{
 "cells": [
  {
   "cell_type": "markdown",
   "metadata": {},
   "source": [
    "# Pandas"
   ]
  },
  {
   "cell_type": "code",
   "execution_count": null,
   "metadata": {},
   "outputs": [],
   "source": [
    "import pandas as pd\n",
    "import numpy as np"
   ]
  },
  {
   "cell_type": "markdown",
   "metadata": {},
   "source": [
    "## Pandas series"
   ]
  },
  {
   "cell_type": "code",
   "execution_count": null,
   "metadata": {
    "Collapsed": "false"
   },
   "outputs": [],
   "source": [
    "# Tên SV và điểm tương ứng của một môn học nào đó ;-)\n",
    "names_list = [ \n",
    "    \"PT\", \"BV\", \"HH\", \"ĐĐ\", \"HH\", \"AN\", \"CN\", \"DĐ\", \"DP\", \"HĐ\", \n",
    "    \"MN\", \"MT\", \"PT\", \"SH\", \"TN\", \"TN\", \"AN\", \"BN\", \"BV\", \"BN\", \n",
    "    \"CN\", \"CV\", \"DL\", \"DT\", \"ĐN\", \"ĐN\", \"HN\", \"HL\", \"HV\", \"HV\", \n",
    "    \"HT\", \"KĐ\", \"KV\", \"LP\", \"MB\", \"PH\", \"PN\", \"PN\", \"QV\", \"QL\", \n",
    "    \"ST\", \"ST\", \"ST\", \"SH\", \"TN\", \"TN\", \"TN\", \"TB\", \"TN\", \"TL\", \n",
    "    \"TL\", \"TN\", \"TL\", \"VH\", \"VH\", \"VP\", \"GT\", \"KN\", \"LĐ\", \"SN\" \n",
    "]\n",
    "grades_list = [\n",
    "    7.0, 0.0, 0.0, 6.5, 0.5, 6.0, 0.0, 0.5, 9.0, 9.0, \n",
    "    0.5, 7.5, 0.5, 0.5, 7.5, 0.0, 8.5, 0.5, 9.5,  10, \n",
    "    0.5, 9.0, 0.0, 0.5, 5.5, 8.5, 7.0, 9.5, 8.5, 9.0, \n",
    "    9.0, 5.0, 9.5, 0.5, 9.5, 0.5, 8.5, 7.5, 9.0, 9.0, \n",
    "    9.5, 6.0, 0.0, 9.5, 7.5, 9.5, 6.0, 7.0, 9.0, 9.0, \n",
    "    9.0, 0.5, 9.0, 9.5, 9.0, 9.5, 9.0, 0.5, 9.5, 5.5\n",
    "]"
   ]
  },
  {
   "cell_type": "code",
   "execution_count": null,
   "metadata": {
    "Collapsed": "false"
   },
   "outputs": [],
   "source": [
    "# Tạo names_series từ names_list\n"
   ]
  },
  {
   "cell_type": "code",
   "execution_count": null,
   "metadata": {
    "Collapsed": "false"
   },
   "outputs": [],
   "source": [
    "# Tạo grades_series từ grades_list\n"
   ]
  },
  {
   "cell_type": "markdown",
   "metadata": {},
   "source": [
    "Pandas series khác gì với 1D Numpy array?"
   ]
  },
  {
   "cell_type": "code",
   "execution_count": null,
   "metadata": {},
   "outputs": [],
   "source": [
    "# Pandas series có nhiều hơn các hàm/toán-tử/phương-thức \n",
    "# Ví dụ, để tính các đại lượng thống kê mô tả của grades_series:\n"
   ]
  },
  {
   "cell_type": "code",
   "execution_count": null,
   "metadata": {},
   "outputs": [],
   "source": [
    "# Pandas series ngoài truy xuất các phần tử thông qua \n",
    "# chỉ số vị trí giống như 1D Numpy array thì còn có thể truy xuất\n",
    "# thông qua tên của phần tử (Pandas gọi tên là index)\n"
   ]
  },
  {
   "cell_type": "code",
   "execution_count": null,
   "metadata": {},
   "outputs": [],
   "source": [
    "grades_series.index"
   ]
  },
  {
   "cell_type": "code",
   "execution_count": null,
   "metadata": {},
   "outputs": [],
   "source": [
    "grades_series.values"
   ]
  },
  {
   "cell_type": "code",
   "execution_count": null,
   "metadata": {},
   "outputs": [],
   "source": [
    "# Tìm SV có điểm cao nhất\n",
    "# In ra tên của SV và điểm tương ứng\n"
   ]
  },
  {
   "cell_type": "code",
   "execution_count": null,
   "metadata": {},
   "outputs": [],
   "source": [
    "# Tìm SV có điểm cao nhất\n",
    "# In ra tên của SV và điểm tương ứng\n"
   ]
  },
  {
   "cell_type": "code",
   "execution_count": null,
   "metadata": {},
   "outputs": [],
   "source": [
    "# Cộng 2 series khác với cộng 2 array\n",
    "s1 = pd.Series([1, 2, 3], index=['a', 'b', 'c'])\n",
    "s2 = pd.Series([30, 20, 10], index=['c', 'b', 'a'])\n",
    "# s1.values + s2.values\n",
    "s1 + s2"
   ]
  },
  {
   "cell_type": "code",
   "execution_count": null,
   "metadata": {},
   "outputs": [],
   "source": [
    "# Cộng 2 series khác với cộng 2 array\n",
    "s1 = pd.Series([1, 2, 3], index=['a', 'b', 'c'])\n",
    "s2 = pd.Series([4, 5, 6, 7], index=['b', 'c', 'd', 'e'])\n",
    "# s1.values + s2.values\n",
    "s1 + s2"
   ]
  },
  {
   "cell_type": "markdown",
   "metadata": {},
   "source": [
    "## Pandas dataframe"
   ]
  },
  {
   "cell_type": "markdown",
   "metadata": {},
   "source": [
    "Pandas **dataframe** dùng để lưu dữ liệu 2 chiều (dữ liệu dạng table). Đây là cấu trúc dữ liệu thường được dùng trong Khoa Học Dữ Liệu.\n",
    "\n",
    "So với 2D Numpy array thì Pandas dataframe:\n",
    "- Cho phép các cột có kiểu dữ liệu khác nhau\n",
    "- Cho phép truy xuất thông qua tên dòng & cột (bên cạnh chỉ số vị trí dòng & cột như ở Numpy)\n",
    "- Cung cấp nhiều hơn các toán-tử/hàm/phương-thức để xử lý dữ liệu."
   ]
  },
  {
   "cell_type": "markdown",
   "metadata": {
    "Collapsed": "false"
   },
   "source": [
    "### Đọc dữ liệu từ file vào dataframe"
   ]
  },
  {
   "cell_type": "markdown",
   "metadata": {
    "Collapsed": "false"
   },
   "source": [
    "Dữ liệu: [MovieLens 100K Dataset](https://files.grouplens.org/datasets/movielens/ml-latest-small.zip). Có tất cả 4 file csv, trong phần demo bên dưới chỉ dùng 2 file.\n",
    "\n",
    "Theo [file mô tả dữ liệu](https://files.grouplens.org/datasets/movielens/ml-latest-small-README.html):\n",
    ">This dataset (ml-latest-small) describes 5-star rating and free-text tagging activity from MovieLens, a movie recommendation service. It contains 100836 ratings and 3683 tag applications across 9742 movies. These data were created by 610 users between March 29, 1996 and September 24, 2018. This dataset was generated on September 26, 2018.\n",
    ">\n",
    ">Users were selected at random for inclusion. All selected users had rated at least 20 movies. No demographic information is included. Each user is represented by an id, and no other information is provided."
   ]
  },
  {
   "cell_type": "code",
   "execution_count": null,
   "metadata": {
    "Collapsed": "false",
    "scrolled": true
   },
   "outputs": [],
   "source": [
    "# Đọc dữ liệu từ file movies.csv vào dataframe movies_df\n",
    "# Đọc dữ liệu từ file ratings.csv vào dataframe ratings_df\n",
    "# Ở đây, mình đặt các file csv trong thư mục Data/ml-25m\n",
    "movies_df = pd.read_csv('Data/ml-latest-small/movies.csv')\n",
    "ratings_df = pd.read_csv('Data/ml-latest-small/ratings.csv')"
   ]
  },
  {
   "cell_type": "markdown",
   "metadata": {
    "Collapsed": "false",
    "toc-hr-collapsed": false
   },
   "source": [
    "### Xem nhanh một vài dòng của dataframe"
   ]
  },
  {
   "cell_type": "code",
   "execution_count": null,
   "metadata": {},
   "outputs": [],
   "source": [
    "# Xem vài dòng đầu\n"
   ]
  },
  {
   "cell_type": "code",
   "execution_count": null,
   "metadata": {},
   "outputs": [],
   "source": [
    "# Xem vài dòng cuối\n"
   ]
  },
  {
   "cell_type": "code",
   "execution_count": null,
   "metadata": {},
   "outputs": [],
   "source": [
    "# Xem vài dòng ngẫu nhiên\n"
   ]
  },
  {
   "cell_type": "code",
   "execution_count": null,
   "metadata": {
    "scrolled": true
   },
   "outputs": [],
   "source": []
  },
  {
   "cell_type": "markdown",
   "metadata": {
    "Collapsed": "false"
   },
   "source": [
    "### Xem các thông tin của dataframe"
   ]
  },
  {
   "cell_type": "code",
   "execution_count": null,
   "metadata": {
    "Collapsed": "false",
    "scrolled": true
   },
   "outputs": [],
   "source": [
    "# Xem số dòng\n"
   ]
  },
  {
   "cell_type": "code",
   "execution_count": null,
   "metadata": {},
   "outputs": [],
   "source": [
    "# Xem số dòng và số cột\n"
   ]
  },
  {
   "cell_type": "code",
   "execution_count": null,
   "metadata": {},
   "outputs": [],
   "source": [
    "# Xem tên của các cột\n"
   ]
  },
  {
   "cell_type": "code",
   "execution_count": null,
   "metadata": {},
   "outputs": [],
   "source": [
    "# Xem tên của các dòng\n"
   ]
  },
  {
   "cell_type": "code",
   "execution_count": null,
   "metadata": {},
   "outputs": [],
   "source": [
    "# Xem kiểu dữ liệu của các cột\n"
   ]
  },
  {
   "cell_type": "code",
   "execution_count": null,
   "metadata": {},
   "outputs": [],
   "source": [
    "# Xem phần dữ liệu của dataframe, kết quả sẽ là một Numpy array\n",
    "# Hiện tại thì ở bên dưới dataframe lưu trữ bằng cách gom các\n",
    "# cột có cùng kiểu dữ liệu vào một Numpy array. Do đó:\n",
    "# - Nếu tất cả các cột của dataframe có cùng kiểu dữ liệu\n",
    "#   thì array được lấy ra chính là array bên dưới của dataframe\n",
    "# - Ngược lại thì array được lấy ra là một array được tạo mới \n",
    "#   với dtype là object (con trỏ trỏ tới một đối tượng Python \n",
    "#   bất kỳ)\n"
   ]
  },
  {
   "cell_type": "code",
   "execution_count": null,
   "metadata": {},
   "outputs": [],
   "source": [
    "movies_df.values[0, 0] =99"
   ]
  },
  {
   "cell_type": "code",
   "execution_count": null,
   "metadata": {},
   "outputs": [],
   "source": [
    "movies_df"
   ]
  },
  {
   "cell_type": "code",
   "execution_count": null,
   "metadata": {},
   "outputs": [],
   "source": [
    "df = pd.DataFrame(np.arange(6).reshape(2, 3))\n",
    "df"
   ]
  },
  {
   "cell_type": "code",
   "execution_count": null,
   "metadata": {},
   "outputs": [],
   "source": [
    "df.to_numpy()[0, 0] = 99"
   ]
  },
  {
   "cell_type": "code",
   "execution_count": null,
   "metadata": {},
   "outputs": [],
   "source": [
    "df"
   ]
  },
  {
   "cell_type": "code",
   "execution_count": null,
   "metadata": {},
   "outputs": [],
   "source": [
    "# Xem tất cả cùng một lúc!\n",
    "movies_df.info()"
   ]
  },
  {
   "cell_type": "code",
   "execution_count": null,
   "metadata": {},
   "outputs": [],
   "source": [
    "ratings_df.info()"
   ]
  },
  {
   "cell_type": "markdown",
   "metadata": {
    "Collapsed": "false",
    "toc-hr-collapsed": false
   },
   "source": [
    "### Truy xuất dữ liệu ở dataframe"
   ]
  },
  {
   "cell_type": "markdown",
   "metadata": {
    "Collapsed": "false",
    "toc-hr-collapsed": false
   },
   "source": [
    "#### df.iloc[...]"
   ]
  },
  {
   "cell_type": "markdown",
   "metadata": {
    "Collapsed": "false"
   },
   "source": [
    "`df.iloc[r, c]`\n",
    "\n",
    "- `r` có thể là:\n",
    "    - Một chỉ số vị trí (0, 1, 2, ...)\n",
    "    - List/array/series các chỉ số vị trí\n",
    "    - Slicing theo chỉ số vị trí\n",
    "    - List/array các giá trị True/False (hiện tại thì `iloc` không chạy được với series True/False)\n",
    "- `c` tương tự như `r`\n",
    "- Dùng một chỉ số vị trí (một con số) thì kết quả sẽ bị giảm chiều\n",
    "    - Nếu hoặc `r` hoặc `c` là một chỉ số vị trí (một con số) thì kết quả là series\n",
    "    - Nếu cả `r` và `c` đều là một chỉ số vị trí (một con số) thì kết quả là một giá trị"
   ]
  },
  {
   "cell_type": "code",
   "execution_count": null,
   "metadata": {
    "Collapsed": "false"
   },
   "outputs": [],
   "source": [
    "# Lấy ra phần tử ở dòng có chỉ số vị trí 2 \n",
    "# và cột có chỉ số vị trí 1 ở movies_df\n"
   ]
  },
  {
   "cell_type": "code",
   "execution_count": null,
   "metadata": {
    "Collapsed": "false"
   },
   "outputs": [],
   "source": [
    "# Lấy ra các phần tử ở dòng có chỉ số vị trí 2 và 4 \n",
    "# và cột có chỉ số vị trí 1 và 2 ở movies_df\n"
   ]
  },
  {
   "cell_type": "code",
   "execution_count": null,
   "metadata": {},
   "outputs": [],
   "source": []
  },
  {
   "cell_type": "code",
   "execution_count": null,
   "metadata": {
    "Collapsed": "false"
   },
   "outputs": [],
   "source": [
    "# Lấy ra các phần tử từ dòng có chỉ số vị trí 2 đến 4 \n",
    "# và từ cột có chỉ số vị trí 1 đến 2 ở movies_df\n"
   ]
  },
  {
   "cell_type": "code",
   "execution_count": null,
   "metadata": {
    "Collapsed": "false"
   },
   "outputs": [],
   "source": [
    "# Lấy ra dòng ở chỉ số vị trí 2 của movies_df\n",
    "# movies_df.iloc[2, :] # Hoặc: movies_df.iloc[2]\n",
    "# movies_df.iloc[[2], :]\n"
   ]
  },
  {
   "cell_type": "code",
   "execution_count": null,
   "metadata": {
    "Collapsed": "false"
   },
   "outputs": [],
   "source": [
    "# Lấy ra cột ở chỉ số vị trí 1 của movies_df\n",
    "# movies_df.iloc[:, 1]\n",
    "# movies_df.iloc[:, [1]]\n"
   ]
  },
  {
   "cell_type": "code",
   "execution_count": null,
   "metadata": {
    "Collapsed": "false"
   },
   "outputs": [],
   "source": [
    "# Lấy ra các dòng của ratings_df mà có rating >= 3 và <= 4\n"
   ]
  },
  {
   "cell_type": "markdown",
   "metadata": {
    "Collapsed": "false"
   },
   "source": [
    "#### df.loc[...]"
   ]
  },
  {
   "cell_type": "markdown",
   "metadata": {
    "Collapsed": "false"
   },
   "source": [
    "`df.loc[r, c]`"
   ]
  },
  {
   "cell_type": "markdown",
   "metadata": {
    "Collapsed": "false"
   },
   "source": [
    "- `r` có thể là: \n",
    "    - Một tên\n",
    "    - List/array/series các tên\n",
    "    - Slicing theo tên (khác với slicing theo chỉ số vị trí, slicing theo tên bao gồm cả start **và end**)\n",
    "    - List/array/series các giá trị True/False (lưu ý, nếu dùng series thì index của series sẽ được dùng để căn với index của `df`) \n",
    "- `c` tương tự như `r`\n",
    "- Dùng một tên thì kết quả sẽ bị giảm chiều\n",
    "    - Nếu hoặc `r` hoặc `c` là một tên thì kết quả là series\n",
    "    - Nếu cả `r` và `c` đều là một tên thì kết quả là một giá trị"
   ]
  },
  {
   "cell_type": "code",
   "execution_count": null,
   "metadata": {
    "Collapsed": "false"
   },
   "outputs": [],
   "source": [
    "# Lấy ra phần tử ở dòng có tên 2 và cột có tên 'title' ở movies_df\n"
   ]
  },
  {
   "cell_type": "code",
   "execution_count": null,
   "metadata": {
    "Collapsed": "false"
   },
   "outputs": [],
   "source": [
    "# Lấy ra các phần tử ở dòng có tên 2 và 4 \n",
    "# và cột có tên 'title' và 'genres' ở movies_df\n"
   ]
  },
  {
   "cell_type": "code",
   "execution_count": null,
   "metadata": {
    "Collapsed": "false"
   },
   "outputs": [],
   "source": [
    "# Lấy ra các phần tử từ dòng có tên 2 đến tên 4 \n",
    "# và từ cột có tên 'title' đến tên 'genres' ở movies_df\n"
   ]
  },
  {
   "cell_type": "code",
   "execution_count": null,
   "metadata": {
    "Collapsed": "false"
   },
   "outputs": [],
   "source": [
    "# Lấy ra dòng có tên là 2 của movies_df\n",
    "# movies_df.loc[2, :]\n",
    "# movies_df.loc[[2], :]\n"
   ]
  },
  {
   "cell_type": "code",
   "execution_count": null,
   "metadata": {
    "Collapsed": "false"
   },
   "outputs": [],
   "source": [
    "# Lấy ra cột có tên là 'title' của movies_df\n",
    "# movies_df.loc[:, 'title']\n",
    "# movies_df.loc[:, ['title']]\n"
   ]
  },
  {
   "cell_type": "code",
   "execution_count": null,
   "metadata": {
    "Collapsed": "false"
   },
   "outputs": [],
   "source": [
    "# Lấy ra các dòng của ratings_df mà có rating >= 3 và <= 4\n"
   ]
  },
  {
   "cell_type": "markdown",
   "metadata": {
    "Collapsed": "false"
   },
   "source": [
    "#### df[...]"
   ]
  },
  {
   "cell_type": "markdown",
   "metadata": {
    "Collapsed": "false"
   },
   "source": [
    "- `df[tên hoặc list các tên]` là shortcut của `df.loc[:, tên hoặc list các tên]`\n",
    "- `df[list/array/series các giá trị True/False]` là shortcut của `df.loc[list/array/series các giá trị True/False, :]`\n",
    "- `df[slicing]` là shortcut của `df.iloc[slicing, :]`"
   ]
  },
  {
   "cell_type": "code",
   "execution_count": null,
   "metadata": {
    "Collapsed": "false"
   },
   "outputs": [],
   "source": []
  },
  {
   "cell_type": "code",
   "execution_count": null,
   "metadata": {},
   "outputs": [],
   "source": []
  },
  {
   "cell_type": "code",
   "execution_count": null,
   "metadata": {},
   "outputs": [],
   "source": []
  },
  {
   "cell_type": "markdown",
   "metadata": {},
   "source": [
    "### Thay đổi dữ liệu ở dataframe"
   ]
  },
  {
   "cell_type": "markdown",
   "metadata": {},
   "source": [
    "df.iloc[...] =\n",
    "\n",
    "df.loc[...] = \n",
    "\n",
    "df[...] = \n",
    "\n",
    "Các cách làm này sẽ không có vấn đề gì. Bây giờ ta hãy xem một ví dụ mà sẽ xảy ra vấn đề."
   ]
  },
  {
   "cell_type": "code",
   "execution_count": null,
   "metadata": {},
   "outputs": [],
   "source": [
    "# Tạo ra một bản copy (deep copy) của ratings_df để thử nghiệm\n"
   ]
  },
  {
   "cell_type": "code",
   "execution_count": null,
   "metadata": {
    "scrolled": true
   },
   "outputs": [],
   "source": [
    "# Lấy ra một dataframe gồm các dòng có rating bằng 5\n",
    "# rồi sửa lại rating thành 4.9\n",
    "\n",
    "\n",
    "# df có thay đổi không?\n",
    "df"
   ]
  },
  {
   "cell_type": "markdown",
   "metadata": {},
   "source": [
    "Lý do `df` không thay đổi là vì câu lệnh thay đổi rating ở trên gồm 2 bước:\n",
    "\n",
    "1. Truy xuất `df` để lấy ra dataframe gồm các dòng có rating bằng 5. Trong Pandas thường là không biết chắc được kết quả truy xuất là view hay là copy của dataframe ban đầu. Trong ví dụ ở trên, kết quả truy xuất là copy.\n",
    "2. Thay đổi rating trên kết quả truy xuất. Vì kết quả truy xuất là copy của `df` nên `df` sẽ không bị thay đổi.\n",
    "\n",
    "Để thay đổi `df` thì ta đừng cho tách thành 2 bước với kết quả trung gian:"
   ]
  },
  {
   "cell_type": "code",
   "execution_count": null,
   "metadata": {},
   "outputs": [],
   "source": [
    "# df.loc[df['rating'] == 5, 'rating'] = 4.9\n",
    "# df\n"
   ]
  },
  {
   "cell_type": "markdown",
   "metadata": {},
   "source": [
    "### Thay đổi tên dòng/cột ở dataframe"
   ]
  },
  {
   "cell_type": "markdown",
   "metadata": {},
   "source": [
    "Đổi tên một vài dòng/cột"
   ]
  },
  {
   "cell_type": "code",
   "execution_count": null,
   "metadata": {},
   "outputs": [],
   "source": []
  },
  {
   "cell_type": "markdown",
   "metadata": {},
   "source": [
    "Đổi tên tất cả các dòng/cột theo một qui luật nào đó"
   ]
  },
  {
   "cell_type": "code",
   "execution_count": null,
   "metadata": {},
   "outputs": [],
   "source": []
  },
  {
   "cell_type": "code",
   "execution_count": null,
   "metadata": {},
   "outputs": [],
   "source": []
  },
  {
   "cell_type": "markdown",
   "metadata": {},
   "source": [
    "### Thay đổi cột index (cột tên dòng) ở dataframe"
   ]
  },
  {
   "cell_type": "code",
   "execution_count": null,
   "metadata": {},
   "outputs": [],
   "source": [
    "# Cho cột movieId từ cột thường thành cột index\n"
   ]
  },
  {
   "cell_type": "code",
   "execution_count": null,
   "metadata": {},
   "outputs": [],
   "source": [
    "# Cho cột title từ cột thường thành cột index\n",
    "# và cột movieId thì cột index thành cột thường\n"
   ]
  }
 ],
 "metadata": {
  "kernelspec": {
   "display_name": "Python 3 (ipykernel)",
   "language": "python",
   "name": "python3"
  },
  "language_info": {
   "codemirror_mode": {
    "name": "ipython",
    "version": 3
   },
   "file_extension": ".py",
   "mimetype": "text/x-python",
   "name": "python",
   "nbconvert_exporter": "python",
   "pygments_lexer": "ipython3",
   "version": "3.8.8"
  },
  "toc": {
   "base_numbering": 1,
   "nav_menu": {},
   "number_sections": false,
   "sideBar": true,
   "skip_h1_title": false,
   "title_cell": "Table of Contents",
   "title_sidebar": "Contents",
   "toc_cell": false,
   "toc_position": {
    "height": "252px",
    "left": "21px",
    "top": "32.133px",
    "width": "226.104px"
   },
   "toc_section_display": true,
   "toc_window_display": true
  }
 },
 "nbformat": 4,
 "nbformat_minor": 4
}
