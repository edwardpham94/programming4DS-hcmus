{
 "cells": [
  {
   "cell_type": "markdown",
   "metadata": {},
   "source": [
    "# Matplotlib"
   ]
  },
  {
   "cell_type": "code",
   "execution_count": null,
   "metadata": {
    "hide_input": false
   },
   "outputs": [],
   "source": [
    "import matplotlib.pyplot as plt\n",
    "# Với các phiên bản cũ của Jupyter Notebook thì có thể cần setup\n",
    "# thêm bằng câu lệnh magic: \n",
    "# %matplotlib inline\n",
    "\n",
    "import datetime\n",
    "import math"
   ]
  },
  {
   "cell_type": "markdown",
   "metadata": {},
   "source": [
    "## Histogram\n",
    "\n",
    "Dùng để trực quan hóa phân bố các giá trị của biến dạng \"numerical\""
   ]
  },
  {
   "cell_type": "markdown",
   "metadata": {},
   "source": [
    "### Đọc dữ liệu điểm quiz từ file và tiền xử lý"
   ]
  },
  {
   "cell_type": "code",
   "execution_count": null,
   "metadata": {},
   "outputs": [],
   "source": [
    "# Đọc dữ liệu về kết quả làm quiz của lớp\n",
    "# (Code lấy từ file 05-Demo.ipynb)\n",
    "file = open('Data/PythonQuiz.csv', 'r')\n",
    "\n",
    "cols = {}\n",
    "first_line_vals = file.readline().rstrip().split(',')\n",
    "for first_line_val in first_line_vals:\n",
    "    cols[first_line_val] = []\n",
    "for line in file:\n",
    "    line_vals = line.rstrip().split(',')\n",
    "    for i in range(len(line_vals)):        \n",
    "        col_name = first_line_vals[i] \n",
    "        col_val = line_vals[i]\n",
    "        cols[col_name].append(col_val)\n",
    "\n",
    "file.close()\n",
    "\n",
    "for col_name, col_vals in cols.items():\n",
    "    print(f'{col_name}: [{col_vals[0]}, ...]')"
   ]
  },
  {
   "cell_type": "code",
   "execution_count": null,
   "metadata": {},
   "outputs": [],
   "source": [
    "# Chuyển kiểu dữ liệu của các cột từ str sang kiểu dữ liệu phù hợp\n",
    "# (Code lấy từ file 05-Demo.ipynb)\n",
    "for col_name, col_vals in cols.items():\n",
    "    if '/' in col_name:\n",
    "        new_col_vals = []\n",
    "        for col_val in col_vals:\n",
    "            new_col_vals.append(float(col_val))\n",
    "        cols[col_name] = new_col_vals\n",
    "    elif col_name in ['Started on', 'Completed']:\n",
    "        new_col_vals = []\n",
    "        for col_val in col_vals:\n",
    "            temp = datetime.datetime.strptime(\n",
    "                col_val, '%d/%m/%Y %H:%M')\n",
    "            new_col_vals.append(temp)\n",
    "        cols[col_name] = new_col_vals\n",
    "    elif col_name == 'Time taken':\n",
    "        new_col_vals = []\n",
    "        for col_val in col_vals:\n",
    "            temp_list = col_val.split(' ')\n",
    "            hour = 0; minute = 0; second = 0\n",
    "            for temp_i in range(len(temp_list)):\n",
    "                if 'hour' in temp_list[temp_i]:\n",
    "                    hour = float(temp_list[temp_i-1])\n",
    "                elif 'min' in temp_list[temp_i]:\n",
    "                    minute = float(temp_list[temp_i-1])\n",
    "                if 'sec' in temp_list[temp_i]:\n",
    "                    second = float(temp_list[temp_i-1])\n",
    "            total = hour*60 + minute + second/60\n",
    "            new_col_vals.append(total)\n",
    "        cols[col_name] = new_col_vals\n",
    "\n",
    "for col_name, col_vals in cols.items():\n",
    "    print(col_name, type(col_vals[0]))"
   ]
  },
  {
   "cell_type": "markdown",
   "metadata": {},
   "source": [
    "### Vẽ histogram của cột điểm \"Grade/10.00\" với 4 bin có độ rộng bằng nhau"
   ]
  },
  {
   "cell_type": "code",
   "execution_count": null,
   "metadata": {},
   "outputs": [],
   "source": []
  },
  {
   "cell_type": "markdown",
   "metadata": {},
   "source": [
    "Kết quả đã tính ở file \"05-Demo.ipynb\": \\\n",
    "`{(0, 2): 0, (2, 4): 4, (4, 6): 2, (6, 8): 18, (8, 10): 28}`\n",
    "\n",
    "Thật ra, qui ước lấy 2 đầu của bin của hàm `plt.hist` khác với qui ước ở file \"05-Demo.ipynb\". Vậy tại sao kết quả lại giống nhau?"
   ]
  },
  {
   "cell_type": "code",
   "execution_count": null,
   "metadata": {},
   "outputs": [],
   "source": [
    "# Chia ra 5 bin có độ rộng bằng nhau\n",
    "# bằng cách truyền một con số vào tham số bin của plt.hist\n"
   ]
  },
  {
   "cell_type": "markdown",
   "metadata": {},
   "source": [
    "### Vẽ histogram của cột điểm \"Grade/10.00\" với 2 bin có độ rộng không bằng nhau là [0, 5) và [5, 10]"
   ]
  },
  {
   "cell_type": "code",
   "execution_count": null,
   "metadata": {},
   "outputs": [],
   "source": []
  },
  {
   "cell_type": "markdown",
   "metadata": {},
   "source": [
    "Khi nhìn hình, bạn cảm nhận số lượng sinh viên ở bin thứ 1 như thế nào với bin thứ 2? \\\n",
    "Có vẻ nhiều hơn!\n",
    "\n",
    "Nhưng cảm nhận này không đúng: bin thứ 1 có 23 sinh viên, còn bin thứ 2 có 27 sinh viên.\n",
    "\n",
    "Tại sao ta lại có cảm nhận không đúng này? \\\n",
    "Vì mắt của ta tập trung vào diện tích của cột hơn là chiều cao của cột.\n",
    "\n",
    "Hình vẽ ở trên thật ra không phải là histogram!"
   ]
  },
  {
   "cell_type": "code",
   "execution_count": null,
   "metadata": {},
   "outputs": [],
   "source": [
    "# Đây mới là histogram!\n",
    "# Diện tích của cột ứng với số lượng sinh viên đã được chuẩn hóa \n",
    "# về tỉ lệ tương đối (tổng diện tích của các cột sẽ bằng 1) \n"
   ]
  },
  {
   "cell_type": "markdown",
   "metadata": {},
   "source": [
    "### Tiếp tục với histogram gồm 2 bin [0, 5) và [5, 10]: phân bố của các giá trị trong bin [5, 10]?"
   ]
  },
  {
   "cell_type": "markdown",
   "metadata": {},
   "source": [
    "Histogram giả định các giá trị được phân bố đều trong mỗi bin. Điều này được thể hiện bởi đường nằm ngang ở trên đầu cột của mỗi bin."
   ]
  },
  {
   "cell_type": "code",
   "execution_count": null,
   "metadata": {},
   "outputs": [],
   "source": [
    "# Thử chi tiết hóa ra bin [5, 10]\n"
   ]
  },
  {
   "cell_type": "markdown",
   "metadata": {},
   "source": [
    "Tùy ngữ cảnh cụ thể mà bạn có thể muốn chi tiết hóa ra, có thể không muốn chi tiết hóa ra, nhưng khi nhìn hình của histogram thì bạn nên hiểu về giả định phân bố đều trong mỗi bin của histogram."
   ]
  },
  {
   "cell_type": "markdown",
   "metadata": {},
   "source": [
    "### Vẽ histogram của cột điểm \"Grade/10.00\" với 4 bin [0, 2), [2, 4), [4, 6),  [6, 8), [8, 10] + 3 đường đứng ứng với lower quartile, median, upper quartile"
   ]
  },
  {
   "cell_type": "code",
   "execution_count": null,
   "metadata": {
    "scrolled": true
   },
   "outputs": [],
   "source": [
    "def compute_percentile(data, p):\n",
    "    return \n",
    "lower_quartile = \n",
    "median = \n",
    "upper_quartile = \n",
    "lower_quartile, median, upper_quartile"
   ]
  },
  {
   "cell_type": "code",
   "execution_count": null,
   "metadata": {},
   "outputs": [],
   "source": []
  },
  {
   "cell_type": "markdown",
   "metadata": {},
   "source": [
    "Tại sao diện tích của cột từ upper quartile đến max lại không tương đương với từ median đến upper quartile?\n",
    "\n",
    "Do giả định phân bố đều của histogram trong bin [5, 10] là không chính xác. Thật ra là có nhiều giá trị tập trung vào vùng từ upper quartile đến max hơn là từ median đến upper quartile."
   ]
  },
  {
   "cell_type": "markdown",
   "metadata": {},
   "source": [
    "## Bar plot\n",
    "\n",
    "Dùng để trực quan hóa phân bố các giá trị của biến dạng \"categorical\""
   ]
  },
  {
   "cell_type": "markdown",
   "metadata": {},
   "source": [
    "### Đọc dữ liệu đăng ký chuyên ngành K2019 (CQ) từ file và lấy ra cột các chuyên ngành"
   ]
  },
  {
   "cell_type": "code",
   "execution_count": null,
   "metadata": {
    "scrolled": true
   },
   "outputs": [],
   "source": [
    "file = open('Data/CQ2019Majors.txt', 'r')\n",
    "majors = []\n",
    "\n",
    "#Some code here...\n",
    "    \n",
    "file.close()\n",
    "majors"
   ]
  },
  {
   "cell_type": "code",
   "execution_count": null,
   "metadata": {},
   "outputs": [],
   "source": [
    "len(majors)"
   ]
  },
  {
   "cell_type": "markdown",
   "metadata": {},
   "source": [
    "### Vẽ bar plot của cột các chuyên ngành"
   ]
  },
  {
   "cell_type": "markdown",
   "metadata": {},
   "source": [
    "Bước 1: đếm số lần xuất hiện của mỗi chuyên ngành"
   ]
  },
  {
   "cell_type": "code",
   "execution_count": null,
   "metadata": {},
   "outputs": [],
   "source": []
  },
  {
   "cell_type": "markdown",
   "metadata": {},
   "source": [
    "Bước 2: vẽ bar plot từ kết quả của bước 1"
   ]
  },
  {
   "cell_type": "code",
   "execution_count": null,
   "metadata": {},
   "outputs": [],
   "source": []
  },
  {
   "cell_type": "code",
   "execution_count": null,
   "metadata": {
    "scrolled": true
   },
   "outputs": [],
   "source": []
  },
  {
   "cell_type": "code",
   "execution_count": null,
   "metadata": {},
   "outputs": [],
   "source": [
    "# Trong bar plot, ta thường sẽ chuẩn hóa các giá trị đếm \n",
    "# về tỉ lệ tương đối"
   ]
  },
  {
   "cell_type": "markdown",
   "metadata": {},
   "source": [
    "Bar plot vs histogram?"
   ]
  },
  {
   "cell_type": "markdown",
   "metadata": {},
   "source": [
    "Bar plot | Histogram\n",
    ":--- | :---\n",
    "Trục hoành (hay trục tung đối với bar plot nằm ngang) là biến \"categorical\" | Trục hoành là biến \"numerical\"\n",
    "Với biến \"categorical\" không có tính thứ tự (ví dụ, chuyên ngành) thì các bar không có thứ tự với nhau và ta có thể sắp xếp lại thứ tự của các bar cho dễ nhìn bằng cách sort các bar theo chiều cao; với biến \"categorical\" có tính thứ tự (ví dụ, mức độ hài lòng với các giá trị: rất hài lòng, hài lòng, không hài lòng, ...) thì các bar có thứ tự với nhau | Các bar có thứ tự với nhau\n",
    "Các bar có độ rộng bằng nhau, giữa các bar có thể có các khoảng không và các khoảng không này bằng nhau | Các bar có thể có độ rộng không bằng nhau, các bar nằm nối tiếp nhau tạo thành một đoạn liên tục trên trục hoành\n",
    "Tỉ lệ các phần tử tương ứng với chiều cao của bar | Tỉ lệ các phần tử tương ứng với diện tích của bar"
   ]
  },
  {
   "cell_type": "markdown",
   "metadata": {},
   "source": [
    "## Ôn lại các câu lệnh đã học"
   ]
  },
  {
   "cell_type": "markdown",
   "metadata": {},
   "source": [
    "Câu lệnh | Ý nghĩa\n",
    ":--- | :---\n",
    "`` | Vẽ histogram của biến dạng \"numeric\"\n",
    "``, `` | Vẽ bar chart của biến dạng \"categorical\" (cần phải tính số lần hoặc tỉ lệ của các giá trị trước khi vẽ)\n",
    "`` | Thêm tựa đề cho hình vẽ\n",
    "`` & `` | Thêm nhãn cho trục x & y\n",
    "`` & `` | Giới hạn miền giá trị cho trục x & y\n",
    "`` & `` | Chỉ định các tick cho trục x & y\n",
    "`` & `` | Vẽ đường thẳng nằm đứng & nằm ngang\n",
    "`` | Thêm chú thích cho ký hiệu, màu, ... trên hình vẽ\n",
    "`` | Lưu hình vẽ xuống file"
   ]
  },
  {
   "cell_type": "markdown",
   "metadata": {},
   "source": [
    "## Nói thêm về matplotlib  "
   ]
  },
  {
   "cell_type": "markdown",
   "metadata": {},
   "source": [
    "### Ba cách dùng matplotlib"
   ]
  },
  {
   "cell_type": "markdown",
   "metadata": {},
   "source": [
    "<font color=blue>Cách 1: Dùng các câu lệnh của `plt`</font> (trước giờ là làm theo cách này)"
   ]
  },
  {
   "cell_type": "code",
   "execution_count": null,
   "metadata": {},
   "outputs": [],
   "source": [
    "values = ['a', 'b', 'c']\n",
    "counts = [1, 2, 3]\n",
    "\n",
    "# Đầu tiên, plt sẽ tạo ra một đối tượng\n",
    "                        # figure ở bên dưới và sau đó sẽ gọi các \n",
    "                        # phương thức của đối tượng figure này ...\n",
    "\n",
    "# Các câu lệnh plt sau đó sẽ gọi các\n",
    "                         # phương thức của cùng đối tượng figure\n",
    "                         # đã được tạo ra trước đó"
   ]
  },
  {
   "cell_type": "code",
   "execution_count": null,
   "metadata": {},
   "outputs": [],
   "source": [
    "plt.savefig('Bar1.jpg') # Ở cell mới thì plt sẽ tạo lại một đối \n",
    "                        # tượng figure mới\n",
    "                        # --> ảnh trống :("
   ]
  },
  {
   "cell_type": "markdown",
   "metadata": {},
   "source": [
    "<font color=blue>Cách 2: Dùng trực tiếp các phương thức của đối tượng figure ở bên dưới</font>"
   ]
  },
  {
   "cell_type": "code",
   "execution_count": null,
   "metadata": {},
   "outputs": [],
   "source": []
  },
  {
   "cell_type": "code",
   "execution_count": null,
   "metadata": {},
   "outputs": [],
   "source": [
    "fig.savefig('Bar2.jpg') # Ảnh không trống nhưng .."
   ]
  },
  {
   "cell_type": "code",
   "execution_count": null,
   "metadata": {
    "scrolled": true
   },
   "outputs": [],
   "source": [
    "values = ['a', 'b', 'c']\n",
    "counts = [1, 2, 3]\n",
    "\n"
   ]
  },
  {
   "cell_type": "code",
   "execution_count": null,
   "metadata": {},
   "outputs": [],
   "source": [
    "# fig = plt.figure(); ax = fig.add_axes([0.1, 0.1, 0.8, 0.8])\n"
   ]
  },
  {
   "cell_type": "code",
   "execution_count": null,
   "metadata": {},
   "outputs": [],
   "source": [
    "# fig = plt.figure(); ax = fig.add_axes([0.1, 0.1, 0.8, 0.8])\n",
    "# fig = plt.figure(); ax = fig.add_subplot() \n"
   ]
  },
  {
   "cell_type": "markdown",
   "metadata": {},
   "source": [
    "<font color=blue>Cách 3: Trộn lẫn giữa cách 1 và cách 2</font>"
   ]
  },
  {
   "cell_type": "code",
   "execution_count": null,
   "metadata": {},
   "outputs": [],
   "source": []
  },
  {
   "cell_type": "code",
   "execution_count": null,
   "metadata": {},
   "outputs": [],
   "source": []
  },
  {
   "cell_type": "markdown",
   "metadata": {},
   "source": [
    "### Thay đổi style cho các hình vẽ "
   ]
  },
  {
   "cell_type": "code",
   "execution_count": null,
   "metadata": {},
   "outputs": [],
   "source": []
  },
  {
   "cell_type": "code",
   "execution_count": null,
   "metadata": {},
   "outputs": [],
   "source": []
  },
  {
   "cell_type": "markdown",
   "metadata": {},
   "source": [
    "Xem thêm về các style ở [document](https://matplotlib.org/stable/gallery/style_sheets/style_sheets_reference.html)."
   ]
  }
 ],
 "metadata": {
  "kernelspec": {
   "display_name": "Python 3 (ipykernel)",
   "language": "python",
   "name": "python3"
  },
  "language_info": {
   "codemirror_mode": {
    "name": "ipython",
    "version": 3
   },
   "file_extension": ".py",
   "mimetype": "text/x-python",
   "name": "python",
   "nbconvert_exporter": "python",
   "pygments_lexer": "ipython3",
   "version": "3.8.8"
  },
  "toc": {
   "base_numbering": 1,
   "nav_menu": {},
   "number_sections": false,
   "sideBar": true,
   "skip_h1_title": false,
   "title_cell": "Table of Contents",
   "title_sidebar": "Contents",
   "toc_cell": false,
   "toc_position": {
    "height": "calc(100% - 180px)",
    "left": "10px",
    "top": "150px",
    "width": "234px"
   },
   "toc_section_display": true,
   "toc_window_display": false
  }
 },
 "nbformat": 4,
 "nbformat_minor": 4
}
