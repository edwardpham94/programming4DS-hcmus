{
 "cells": [
  {
   "cell_type": "code",
   "execution_count": 1,
   "id": "a50e73b8-402e-4b50-836b-0f25abcd01eb",
   "metadata": {},
   "outputs": [],
   "source": [
    "import pandas as pd\n",
    "import numpy as np"
   ]
  },
  {
   "cell_type": "code",
   "execution_count": 2,
   "id": "de54c384-595d-4798-9840-06f73e526810",
   "metadata": {},
   "outputs": [
    {
     "data": {
      "text/html": [
       "<div>\n",
       "<style scoped>\n",
       "    .dataframe tbody tr th:only-of-type {\n",
       "        vertical-align: middle;\n",
       "    }\n",
       "\n",
       "    .dataframe tbody tr th {\n",
       "        vertical-align: top;\n",
       "    }\n",
       "\n",
       "    .dataframe thead th {\n",
       "        text-align: right;\n",
       "    }\n",
       "</style>\n",
       "<table border=\"1\" class=\"dataframe\">\n",
       "  <thead>\n",
       "    <tr style=\"text-align: right;\">\n",
       "      <th></th>\n",
       "      <th>State</th>\n",
       "      <th>Sex</th>\n",
       "      <th>Year</th>\n",
       "      <th>Name</th>\n",
       "      <th>Count</th>\n",
       "    </tr>\n",
       "  </thead>\n",
       "  <tbody>\n",
       "    <tr>\n",
       "      <th>0</th>\n",
       "      <td>CA</td>\n",
       "      <td>F</td>\n",
       "      <td>1910</td>\n",
       "      <td>Mary</td>\n",
       "      <td>295</td>\n",
       "    </tr>\n",
       "    <tr>\n",
       "      <th>1</th>\n",
       "      <td>CA</td>\n",
       "      <td>F</td>\n",
       "      <td>1910</td>\n",
       "      <td>Helen</td>\n",
       "      <td>239</td>\n",
       "    </tr>\n",
       "    <tr>\n",
       "      <th>2</th>\n",
       "      <td>CA</td>\n",
       "      <td>F</td>\n",
       "      <td>1910</td>\n",
       "      <td>Dorothy</td>\n",
       "      <td>220</td>\n",
       "    </tr>\n",
       "    <tr>\n",
       "      <th>3</th>\n",
       "      <td>CA</td>\n",
       "      <td>F</td>\n",
       "      <td>1910</td>\n",
       "      <td>Margaret</td>\n",
       "      <td>163</td>\n",
       "    </tr>\n",
       "    <tr>\n",
       "      <th>4</th>\n",
       "      <td>CA</td>\n",
       "      <td>F</td>\n",
       "      <td>1910</td>\n",
       "      <td>Frances</td>\n",
       "      <td>134</td>\n",
       "    </tr>\n",
       "    <tr>\n",
       "      <th>...</th>\n",
       "      <td>...</td>\n",
       "      <td>...</td>\n",
       "      <td>...</td>\n",
       "      <td>...</td>\n",
       "      <td>...</td>\n",
       "    </tr>\n",
       "    <tr>\n",
       "      <th>407423</th>\n",
       "      <td>CA</td>\n",
       "      <td>M</td>\n",
       "      <td>2022</td>\n",
       "      <td>Zayvier</td>\n",
       "      <td>5</td>\n",
       "    </tr>\n",
       "    <tr>\n",
       "      <th>407424</th>\n",
       "      <td>CA</td>\n",
       "      <td>M</td>\n",
       "      <td>2022</td>\n",
       "      <td>Zia</td>\n",
       "      <td>5</td>\n",
       "    </tr>\n",
       "    <tr>\n",
       "      <th>407425</th>\n",
       "      <td>CA</td>\n",
       "      <td>M</td>\n",
       "      <td>2022</td>\n",
       "      <td>Zora</td>\n",
       "      <td>5</td>\n",
       "    </tr>\n",
       "    <tr>\n",
       "      <th>407426</th>\n",
       "      <td>CA</td>\n",
       "      <td>M</td>\n",
       "      <td>2022</td>\n",
       "      <td>Zuriel</td>\n",
       "      <td>5</td>\n",
       "    </tr>\n",
       "    <tr>\n",
       "      <th>407427</th>\n",
       "      <td>CA</td>\n",
       "      <td>M</td>\n",
       "      <td>2022</td>\n",
       "      <td>Zylo</td>\n",
       "      <td>5</td>\n",
       "    </tr>\n",
       "  </tbody>\n",
       "</table>\n",
       "<p>407428 rows × 5 columns</p>\n",
       "</div>"
      ],
      "text/plain": [
       "       State Sex  Year      Name  Count\n",
       "0         CA   F  1910      Mary    295\n",
       "1         CA   F  1910     Helen    239\n",
       "2         CA   F  1910   Dorothy    220\n",
       "3         CA   F  1910  Margaret    163\n",
       "4         CA   F  1910   Frances    134\n",
       "...      ...  ..   ...       ...    ...\n",
       "407423    CA   M  2022   Zayvier      5\n",
       "407424    CA   M  2022       Zia      5\n",
       "407425    CA   M  2022      Zora      5\n",
       "407426    CA   M  2022    Zuriel      5\n",
       "407427    CA   M  2022      Zylo      5\n",
       "\n",
       "[407428 rows x 5 columns]"
      ]
     },
     "execution_count": 2,
     "metadata": {},
     "output_type": "execute_result"
    }
   ],
   "source": [
    "# Đọc Dataframe từ file csv, với các cột như sau\n",
    "field_names = ['State', 'Sex', 'Year', 'Name', 'Count']\n",
    "babynames_df = pd.read_csv('STATE.CA.TXT',header=None,names=field_names)\n",
    "babynames_df"
   ]
  },
  {
   "cell_type": "code",
   "execution_count": 3,
   "id": "700fb6e6-3e91-4ce4-b4e2-d780fed7fb14",
   "metadata": {},
   "outputs": [
    {
     "name": "stdout",
     "output_type": "stream",
     "text": [
      "       State Sex  Year      Name  Count\n",
      "165191    CA   F  2004    Amaris     43\n",
      "158624    CA   F  2002      Kati     11\n",
      "376481    CA   M  2012    Brodie     27\n",
      "363305    CA   M  2007     Boris      6\n",
      "286908    CA   M  1972     Judah      7\n",
      "153297    CA   F  2001     Ciara     85\n",
      "358857    CA   M  2006    Jaylin     34\n",
      "358310    CA   M  2006   Gustavo    341\n",
      "72593     CA   F  1975  Marianna     12\n",
      "393935    CA   M  2018    Atharv     32\n"
     ]
    }
   ],
   "source": [
    "# Show 10 dòng ngẫu nhiên\n",
    "random_rows = babynames_df.sample(n=10)\n",
    "\n",
    "# Display the random rows\n",
    "print(random_rows)"
   ]
  },
  {
   "cell_type": "code",
   "execution_count": 4,
   "id": "75c74328-7977-4f25-93e5-28908072362b",
   "metadata": {},
   "outputs": [
    {
     "name": "stdout",
     "output_type": "stream",
     "text": [
      "       State Sex  Year      Name  Count\n",
      "0         CA   F  1910      Mary    295\n",
      "1         CA   F  1910     Helen    239\n",
      "2         CA   F  1910   Dorothy    220\n",
      "3         CA   F  1910  Margaret    163\n",
      "4         CA   F  1910   Frances    134\n",
      "...      ...  ..   ...       ...    ...\n",
      "239532    CA   F  2022    Zemira      5\n",
      "239533    CA   F  2022     Ziggy      5\n",
      "239534    CA   F  2022     Zimal      5\n",
      "239535    CA   F  2022     Zosia      5\n",
      "239536    CA   F  2022     Zulay      5\n",
      "\n",
      "[239537 rows x 5 columns]\n"
     ]
    }
   ],
   "source": [
    "# Hiển thị DF chỉ gồm female \n",
    "female_df = babynames_df[babynames_df['Sex'] == 'F']\n",
    "print(female_df)"
   ]
  },
  {
   "cell_type": "code",
   "execution_count": 5,
   "id": "6812063c-0447-416b-888b-0a584b478332",
   "metadata": {},
   "outputs": [
    {
     "name": "stdout",
     "output_type": "stream",
     "text": [
      "       State Sex  Year      Name  Count\n",
      "239537    CA   M  1910      John    237\n",
      "239538    CA   M  1910   William    170\n",
      "239539    CA   M  1910     James    159\n",
      "239540    CA   M  1910    Robert    141\n",
      "239541    CA   M  1910    George    138\n",
      "...      ...  ..   ...       ...    ...\n",
      "342435    CA   M  1999     Yuuki      5\n",
      "342436    CA   M  1999  Zakariya      5\n",
      "342437    CA   M  1999    Zavier      5\n",
      "342438    CA   M  1999      Zayn      5\n",
      "342439    CA   M  1999     Zayne      5\n",
      "\n",
      "[102903 rows x 5 columns]\n"
     ]
    }
   ],
   "source": [
    "# Hiển thị DF gồm những người male, sinh trước 2000\n",
    "male_df = babynames_df[(babynames_df['Sex'] == 'M') & (babynames_df['Year'] < 2000)]\n",
    "print(male_df)"
   ]
  },
  {
   "cell_type": "code",
   "execution_count": 6,
   "id": "f1272f0c-374e-4d18-8bc3-34e65cacbcba",
   "metadata": {},
   "outputs": [
    {
     "name": "stdout",
     "output_type": "stream",
     "text": [
      "       State Sex  Year      Name  Count\n",
      "44080     CA   F  1961  Charlene    251\n",
      "393333    CA   M  2018      Milo    251\n",
      "393332    CA   M  2018    Emmett    251\n"
     ]
    }
   ],
   "source": [
    "# Hiển thị 3 babynames với count > 250\n",
    "top_names = babynames_df[babynames_df['Count'] > 250].sort_values('Count').head(3)\n",
    "print(top_names)"
   ]
  },
  {
   "cell_type": "code",
   "execution_count": 7,
   "id": "5988ca01-f31e-4125-af1a-113604edd22a",
   "metadata": {},
   "outputs": [
    {
     "name": "stdout",
     "output_type": "stream",
     "text": [
      "       State Sex  Year   Name  Count\n",
      "6289      CA   F  1923  Bella      5\n",
      "7512      CA   F  1925  Bella      8\n",
      "12368     CA   F  1932   Lisa      5\n",
      "14741     CA   F  1936   Lisa      8\n",
      "17084     CA   F  1939   Lisa      5\n",
      "...      ...  ..   ...    ...    ...\n",
      "393248    CA   M  2018   Alex    495\n",
      "396111    CA   M  2019   Alex    438\n",
      "398983    CA   M  2020   Alex    379\n",
      "401788    CA   M  2021   Alex    333\n",
      "404663    CA   M  2022   Alex    344\n",
      "\n",
      "[317 rows x 5 columns]\n"
     ]
    }
   ],
   "source": [
    "# Hiển thị các babynames có tên là Bella, Alex, Narges, hoặc Lisa\n",
    "names_of_interest = ['Bella', 'Alex', 'Narges', 'Lisa']\n",
    "selected_names = babynames_df[babynames_df['Name'].isin(names_of_interest)]\n",
    "print(selected_names)"
   ]
  },
  {
   "cell_type": "code",
   "execution_count": 8,
   "id": "d6cc2a76-3bd7-4511-8dbe-b146c4838fe1",
   "metadata": {},
   "outputs": [
    {
     "name": "stdout",
     "output_type": "stream",
     "text": [
      "       State Sex  Year    Name  Count\n",
      "76        CA   F  1910   Norma     23\n",
      "83        CA   F  1910  Nellie     20\n",
      "127       CA   F  1910    Nina     11\n",
      "198       CA   F  1910    Nora      6\n",
      "310       CA   F  1911  Nellie     23\n",
      "...      ...  ..   ...     ...    ...\n",
      "407319    CA   M  2022   Nilan      5\n",
      "407320    CA   M  2022   Niles      5\n",
      "407321    CA   M  2022   Nolen      5\n",
      "407322    CA   M  2022  Noriel      5\n",
      "407323    CA   M  2022  Norris      5\n",
      "\n",
      "[12229 rows x 5 columns]\n"
     ]
    }
   ],
   "source": [
    "# Hiển thị với những Name bắt đầu bằng chữ N\n",
    "names_starting_with_N = babynames_df[babynames_df['Name'].str.startswith('N')]\n",
    "print(names_starting_with_N)"
   ]
  },
  {
   "cell_type": "code",
   "execution_count": 9,
   "id": "b632a48f-bb64-4d83-ad97-0c94d425a569",
   "metadata": {},
   "outputs": [
    {
     "name": "stdout",
     "output_type": "stream",
     "text": [
      "       State Sex  Year      Name  Count  Name_Lengths\n",
      "0         CA   F  1910      Mary    295             4\n",
      "1         CA   F  1910     Helen    239             5\n",
      "2         CA   F  1910   Dorothy    220             7\n",
      "3         CA   F  1910  Margaret    163             8\n",
      "4         CA   F  1910   Frances    134             7\n",
      "...      ...  ..   ...       ...    ...           ...\n",
      "407423    CA   M  2022   Zayvier      5             7\n",
      "407424    CA   M  2022       Zia      5             3\n",
      "407425    CA   M  2022      Zora      5             4\n",
      "407426    CA   M  2022    Zuriel      5             6\n",
      "407427    CA   M  2022      Zylo      5             4\n",
      "\n",
      "[407428 rows x 6 columns]\n"
     ]
    }
   ],
   "source": [
    "# Thêm cột name_lengths với giá trị là số lượng ký tự của cột Name\n",
    "babynames_df['Name_Lengths'] = babynames_df['Name'].apply(lambda x: len(str(x)))\n",
    "print(babynames_df)"
   ]
  },
  {
   "cell_type": "code",
   "execution_count": 10,
   "id": "1e78b3c2-2025-43bc-8449-adfc4ad93c16",
   "metadata": {},
   "outputs": [
    {
     "name": "stdout",
     "output_type": "stream",
     "text": [
      "Year\n",
      "1910    118.0\n",
      "1911    127.0\n",
      "1912    181.0\n",
      "1913    202.0\n",
      "1914    212.0\n",
      "        ...  \n",
      "2018    465.0\n",
      "2019    444.0\n",
      "2020    413.0\n",
      "2021    374.0\n",
      "2022    394.0\n",
      "Name: Count, Length: 113, dtype: float64\n"
     ]
    }
   ],
   "source": [
    "# Hãy cho biết số lượng baby có tên 'Alice' trung bình hàng năm là bao nhiêu\n",
    "average_count = babynames_df[babynames_df['Name'] == 'Alice'].groupby('Year')['Count'].mean()\n",
    "print(average_count)"
   ]
  },
  {
   "cell_type": "code",
   "execution_count": 11,
   "id": "ff5b298b-2e1e-42e3-aa7d-7f6146aee0fd",
   "metadata": {},
   "outputs": [
    {
     "name": "stdout",
     "output_type": "stream",
     "text": [
      "['Mary' 'Helen' 'Dorothy' ... 'Zae' 'Zai' 'Zayvier']\n"
     ]
    }
   ],
   "source": [
    "# Hiển thị tất cả các tên trong DF, mỗi tên chỉ hiển thị 1 lần\n",
    "unique_names = babynames_df['Name'].unique()\n",
    "print(unique_names)"
   ]
  },
  {
   "cell_type": "code",
   "execution_count": 12,
   "id": "cbd2aeab-8a47-4901-be84-9386a95b7d21",
   "metadata": {},
   "outputs": [
    {
     "name": "stdout",
     "output_type": "stream",
     "text": [
      "       State Sex  Year    Name  Count  Name_Lengths\n",
      "398869    CA   M  2020    Noah   2630             4\n",
      "398870    CA   M  2020    Liam   2426             4\n",
      "228550    CA   F  2020  Olivia   2353             6\n",
      "228551    CA   F  2020  Camila   2187             6\n",
      "228552    CA   F  2020    Emma   2110             4\n"
     ]
    }
   ],
   "source": [
    "# Tìm babynames phổ biến nhất trong năm 2020\n",
    "popular_names_2020 = babynames_df[babynames_df['Year'] == 2020].sort_values('Count', ascending=False)\n",
    "top_names_2020 = popular_names_2020.head()\n",
    "print(top_names_2020)"
   ]
  }
 ],
 "metadata": {
  "kernelspec": {
   "display_name": "Python 3 (ipykernel)",
   "language": "python",
   "name": "python3"
  },
  "language_info": {
   "codemirror_mode": {
    "name": "ipython",
    "version": 3
   },
   "file_extension": ".py",
   "mimetype": "text/x-python",
   "name": "python",
   "nbconvert_exporter": "python",
   "pygments_lexer": "ipython3",
   "version": "3.10.9"
  }
 },
 "nbformat": 4,
 "nbformat_minor": 5
}
